{
  "metadata": {
    "kernelspec": {
      "language": "python",
      "display_name": "Python 3",
      "name": "python3"
    },
    "language_info": {
      "pygments_lexer": "ipython3",
      "nbconvert_exporter": "python",
      "version": "3.6.4",
      "file_extension": ".py",
      "codemirror_mode": {
        "name": "ipython",
        "version": 3
      },
      "name": "python",
      "mimetype": "text/x-python"
    },
    "colab": {
      "provenance": [],
      "include_colab_link": true
    }
  },
  "nbformat_minor": 0,
  "nbformat": 4,
  "cells": [
    {
      "cell_type": "markdown",
      "metadata": {
        "id": "view-in-github",
        "colab_type": "text"
      },
      "source": [
        "<a href=\"https://colab.research.google.com/github/fatrrr/Predicting-Credit-Card-Attrition/blob/main/Copy_of_Predicting_Credit_Card_Attrition.ipynb\" target=\"_parent\"><img src=\"https://colab.research.google.com/assets/colab-badge.svg\" alt=\"Open In Colab\"/></a>"
      ]
    },
    {
      "source": [
        "\n",
        "# IMPORTANT: RUN THIS CELL IN ORDER TO IMPORT YOUR KAGGLE DATA SOURCES\n",
        "# TO THE CORRECT LOCATION (/kaggle/input) IN YOUR NOTEBOOK,\n",
        "# THEN FEEL FREE TO DELETE THIS CELL.\n",
        "# NOTE: THIS NOTEBOOK ENVIRONMENT DIFFERS FROM KAGGLE'S PYTHON\n",
        "# ENVIRONMENT SO THERE MAY BE MISSING LIBRARIES USED BY YOUR\n",
        "# NOTEBOOK.\n",
        "\n",
        "import os\n",
        "import sys\n",
        "from tempfile import NamedTemporaryFile\n",
        "from urllib.request import urlopen\n",
        "from urllib.parse import unquote, urlparse\n",
        "from urllib.error import HTTPError\n",
        "from zipfile import ZipFile\n",
        "import tarfile\n",
        "import shutil\n",
        "\n",
        "CHUNK_SIZE = 40960\n",
        "DATA_SOURCE_MAPPING = 'predicting-credit-card-customer-attrition-with-m:https%3A%2F%2Fstorage.googleapis.com%2Fkaggle-data-sets%2F2814775%2F4855664%2Fbundle%2Farchive.zip%3FX-Goog-Algorithm%3DGOOG4-RSA-SHA256%26X-Goog-Credential%3Dgcp-kaggle-com%2540kaggle-161607.iam.gserviceaccount.com%252F20240316%252Fauto%252Fstorage%252Fgoog4_request%26X-Goog-Date%3D20240316T030550Z%26X-Goog-Expires%3D259200%26X-Goog-SignedHeaders%3Dhost%26X-Goog-Signature%3D8ba703e8a64516af05921188e228a5635a174f14ee67c15f2b365d161d93a881b89c8a0da1cc0bf1b559ff30dd22625010019b6850effc59a20ba4d5d2693cec08dda12f22ecf7a7e5aecb180d3c0be26ab5a06b0d3e855e8d2e5796e77f718a29cd3a1486a25b03825a9cd5499ef98d5ab32a55f03f2e876c8360782afdf55318007053a88fc6e5dcae1ed6e1b650781d78ac7a9231abc1d5122613ee0ae46c614d7214b97ba0e615643f38ea50a24d674f34d88d0516e12fa3c14b42fa95a9d5b9a9c766c0793e5d04ec5a7b521f44bfdee62ef6f8ef1bc84c0e04867054c7db4133dd975ff709fbf5afc185959c899047992eb83e70a4c26662a2c68e04bb'\n",
        "\n",
        "KAGGLE_INPUT_PATH='/kaggle/input'\n",
        "KAGGLE_WORKING_PATH='/kaggle/working'\n",
        "KAGGLE_SYMLINK='kaggle'\n",
        "\n",
        "!umount /kaggle/input/ 2> /dev/null\n",
        "shutil.rmtree('/kaggle/input', ignore_errors=True)\n",
        "os.makedirs(KAGGLE_INPUT_PATH, 0o777, exist_ok=True)\n",
        "os.makedirs(KAGGLE_WORKING_PATH, 0o777, exist_ok=True)\n",
        "\n",
        "try:\n",
        "  os.symlink(KAGGLE_INPUT_PATH, os.path.join(\"..\", 'input'), target_is_directory=True)\n",
        "except FileExistsError:\n",
        "  pass\n",
        "try:\n",
        "  os.symlink(KAGGLE_WORKING_PATH, os.path.join(\"..\", 'working'), target_is_directory=True)\n",
        "except FileExistsError:\n",
        "  pass\n",
        "\n",
        "for data_source_mapping in DATA_SOURCE_MAPPING.split(','):\n",
        "    directory, download_url_encoded = data_source_mapping.split(':')\n",
        "    download_url = unquote(download_url_encoded)\n",
        "    filename = urlparse(download_url).path\n",
        "    destination_path = os.path.join(KAGGLE_INPUT_PATH, directory)\n",
        "    try:\n",
        "        with urlopen(download_url) as fileres, NamedTemporaryFile() as tfile:\n",
        "            total_length = fileres.headers['content-length']\n",
        "            print(f'Downloading {directory}, {total_length} bytes compressed')\n",
        "            dl = 0\n",
        "            data = fileres.read(CHUNK_SIZE)\n",
        "            while len(data) > 0:\n",
        "                dl += len(data)\n",
        "                tfile.write(data)\n",
        "                done = int(50 * dl / int(total_length))\n",
        "                sys.stdout.write(f\"\\r[{'=' * done}{' ' * (50-done)}] {dl} bytes downloaded\")\n",
        "                sys.stdout.flush()\n",
        "                data = fileres.read(CHUNK_SIZE)\n",
        "            if filename.endswith('.zip'):\n",
        "              with ZipFile(tfile) as zfile:\n",
        "                zfile.extractall(destination_path)\n",
        "            else:\n",
        "              with tarfile.open(tfile.name) as tarfile:\n",
        "                tarfile.extractall(destination_path)\n",
        "            print(f'\\nDownloaded and uncompressed: {directory}')\n",
        "    except HTTPError as e:\n",
        "        print(f'Failed to load (likely expired) {download_url} to path {destination_path}')\n",
        "        continue\n",
        "    except OSError as e:\n",
        "        print(f'Failed to load {download_url} to path {destination_path}')\n",
        "        continue\n",
        "\n",
        "print('Data source import complete.')\n"
      ],
      "metadata": {
        "id": "mKtQbo0POVdT",
        "colab": {
          "base_uri": "https://localhost:8080/"
        },
        "outputId": "4d1b2725-1b8a-4041-c542-804378b84ebd"
      },
      "cell_type": "code",
      "outputs": [
        {
          "output_type": "stream",
          "name": "stdout",
          "text": [
            "Downloading predicting-credit-card-customer-attrition-with-m, 387771 bytes compressed\n",
            "[==================================================] 387771 bytes downloaded\n",
            "Downloaded and uncompressed: predicting-credit-card-customer-attrition-with-m\n",
            "Data source import complete.\n"
          ]
        }
      ],
      "execution_count": 1
    },
    {
      "cell_type": "code",
      "source": [
        "# This Python 3 environment comes with many helpful analytics libraries installed\n",
        "# It is defined by the kaggle/python Docker image: https://github.com/kaggle/docker-python\n",
        "# For example, here's several helpful packages to load\n",
        "\n",
        "import numpy as np # linear algebra\n",
        "import pandas as pd # data processing, CSV file I/O (e.g. pd.read_csv)\n",
        "\n",
        "# Input data files are available in the read-only \"../input/\" directory\n",
        "# For example, running this (by clicking run or pressing Shift+Enter) will list all files under the input directory\n",
        "\n",
        "import os\n",
        "for dirname, _, filenames in os.walk('/kaggle/input'):\n",
        "    for filename in filenames:\n",
        "        print(os.path.join(dirname, filename))\n",
        "\n",
        "# You can write up to 20GB to the current directory (/kaggle/working/) that gets preserved as output when you create a version using \"Save & Run All\"\n",
        "# You can also write temporary files to /kaggle/temp/, but they won't be saved outside of the current session"
      ],
      "metadata": {
        "_uuid": "8f2839f25d086af736a60e9eeb907d3b93b6e0e5",
        "_cell_guid": "b1076dfc-b9ad-4769-8c92-a6c4dae69d19",
        "_kg_hide-input": true,
        "execution": {
          "iopub.status.busy": "2023-05-03T15:33:49.397738Z",
          "iopub.execute_input": "2023-05-03T15:33:49.398122Z",
          "iopub.status.idle": "2023-05-03T15:33:49.431874Z",
          "shell.execute_reply.started": "2023-05-03T15:33:49.398092Z",
          "shell.execute_reply": "2023-05-03T15:33:49.430974Z"
        },
        "trusted": true,
        "id": "TGc4EBzfOVdX",
        "colab": {
          "base_uri": "https://localhost:8080/"
        },
        "outputId": "547b842b-1ff4-45f1-d13a-01d59011801d"
      },
      "execution_count": 2,
      "outputs": [
        {
          "output_type": "stream",
          "name": "stdout",
          "text": [
            "/kaggle/input/predicting-credit-card-customer-attrition-with-m/BankChurners.csv\n"
          ]
        }
      ]
    },
    {
      "cell_type": "markdown",
      "source": [
        "# <span style='color:#fcbf49'><center style='background:#003049;padding:20px'> Credit Card Attrition</center></span>"
      ],
      "metadata": {
        "id": "APtDAgnXOVdY"
      }
    },
    {
      "cell_type": "markdown",
      "source": [
        "![](https://images.unsplash.com/photo-1589758438368-0ad531db3366?ixlib=rb-4.0.3&ixid=MnwxMjA3fDB8MHxwaG90by1wYWdlfHx8fGVufDB8fHx8&auto=format&fit=crop&w=2832&q=80)"
      ],
      "metadata": {
        "id": "BDNpngxtOVdb"
      }
    },
    {
      "cell_type": "markdown",
      "source": [
        "**<span style=\"color:#f77f00;\">General Overview</span>**\n",
        "\n",
        "Customer Attrition is when a business loses its customers. It is known by many names like Customer Churn and Customer turnover, but it all means the same thing -A customer who breaks all ties with the organization.\n",
        "\n",
        "In this notebook, I have used Gaussian Naives Bayer Classifier for predicting the customer attrition. Aprt from this, Principal Component Analysis, One Hot Encoding, Data Vizualisation, Feature Engineering are also performed.\n",
        "\n",
        "<span style=\"color:#f77f00;\">Please **<span style=\"color:#d62828;\">UPVOTE</span>** if you like the efforts put in the notebook and also let me know if there are any errors in the same!</span>\n"
      ],
      "metadata": {
        "id": "dIW5fZqMOVdb"
      }
    },
    {
      "cell_type": "markdown",
      "source": [
        "# **<span style=\"color:#d62828;\">1. Getting Started!</span>**"
      ],
      "metadata": {
        "id": "tyxoTr9xOVdc"
      }
    },
    {
      "cell_type": "code",
      "source": [
        "pip install pywaffle"
      ],
      "metadata": {
        "execution": {
          "iopub.status.busy": "2023-05-03T15:33:49.433635Z",
          "iopub.execute_input": "2023-05-03T15:33:49.434245Z",
          "iopub.status.idle": "2023-05-03T15:34:07.165427Z",
          "shell.execute_reply.started": "2023-05-03T15:33:49.434211Z",
          "shell.execute_reply": "2023-05-03T15:34:07.163853Z"
        },
        "trusted": true,
        "id": "4BWEDi7rOVdd",
        "colab": {
          "base_uri": "https://localhost:8080/"
        },
        "outputId": "9ac1b5a2-a747-4b8c-ee4f-678e4ed50a2e"
      },
      "execution_count": 3,
      "outputs": [
        {
          "output_type": "stream",
          "name": "stdout",
          "text": [
            "Collecting pywaffle\n",
            "  Downloading pywaffle-1.1.0-py2.py3-none-any.whl (30 kB)\n",
            "Collecting fontawesomefree (from pywaffle)\n",
            "  Downloading fontawesomefree-6.5.1-py3-none-any.whl (25.6 MB)\n",
            "\u001b[2K     \u001b[90m━━━━━━━━━━━━━━━━━━━━━━━━━━━━━━━━━━━━━━━━\u001b[0m \u001b[32m25.6/25.6 MB\u001b[0m \u001b[31m33.0 MB/s\u001b[0m eta \u001b[36m0:00:00\u001b[0m\n",
            "\u001b[?25hRequirement already satisfied: matplotlib in /usr/local/lib/python3.10/dist-packages (from pywaffle) (3.7.1)\n",
            "Requirement already satisfied: contourpy>=1.0.1 in /usr/local/lib/python3.10/dist-packages (from matplotlib->pywaffle) (1.2.0)\n",
            "Requirement already satisfied: cycler>=0.10 in /usr/local/lib/python3.10/dist-packages (from matplotlib->pywaffle) (0.12.1)\n",
            "Requirement already satisfied: fonttools>=4.22.0 in /usr/local/lib/python3.10/dist-packages (from matplotlib->pywaffle) (4.49.0)\n",
            "Requirement already satisfied: kiwisolver>=1.0.1 in /usr/local/lib/python3.10/dist-packages (from matplotlib->pywaffle) (1.4.5)\n",
            "Requirement already satisfied: numpy>=1.20 in /usr/local/lib/python3.10/dist-packages (from matplotlib->pywaffle) (1.25.2)\n",
            "Requirement already satisfied: packaging>=20.0 in /usr/local/lib/python3.10/dist-packages (from matplotlib->pywaffle) (24.0)\n",
            "Requirement already satisfied: pillow>=6.2.0 in /usr/local/lib/python3.10/dist-packages (from matplotlib->pywaffle) (9.4.0)\n",
            "Requirement already satisfied: pyparsing>=2.3.1 in /usr/local/lib/python3.10/dist-packages (from matplotlib->pywaffle) (3.1.2)\n",
            "Requirement already satisfied: python-dateutil>=2.7 in /usr/local/lib/python3.10/dist-packages (from matplotlib->pywaffle) (2.8.2)\n",
            "Requirement already satisfied: six>=1.5 in /usr/local/lib/python3.10/dist-packages (from python-dateutil>=2.7->matplotlib->pywaffle) (1.16.0)\n",
            "Installing collected packages: fontawesomefree, pywaffle\n",
            "Successfully installed fontawesomefree-6.5.1 pywaffle-1.1.0\n"
          ]
        }
      ]
    },
    {
      "cell_type": "code",
      "source": [
        "from pywaffle import Waffle\n",
        "import matplotlib.pyplot as plt\n",
        "import pandas as pd\n",
        "import numpy as np\n",
        "import seaborn as sns"
      ],
      "metadata": {
        "execution": {
          "iopub.status.busy": "2023-05-03T15:33:49.433635Z",
          "iopub.execute_input": "2023-05-03T15:33:49.434245Z",
          "iopub.status.idle": "2023-05-03T15:34:07.165427Z",
          "shell.execute_reply.started": "2023-05-03T15:33:49.434211Z",
          "shell.execute_reply": "2023-05-03T15:34:07.163853Z"
        },
        "trusted": true,
        "id": "y5l60z_-OVde"
      },
      "execution_count": 4,
      "outputs": []
    },
    {
      "cell_type": "markdown",
      "source": [
        "1. We get started by importing the basic libraries like pandas, numpy.\n",
        "2. We are using seaborn and pyWaffle for making the vizualisations more interesting and appealing."
      ],
      "metadata": {
        "id": "VggovLJsOVde"
      }
    },
    {
      "cell_type": "markdown",
      "source": [
        "# **<span style=\"color:#d62828;\">2. The Dataset</span>**"
      ],
      "metadata": {
        "id": "Q91DMi-nOVdf"
      }
    },
    {
      "cell_type": "code",
      "source": [
        "credit = pd.read_csv(\"/kaggle/input/predicting-credit-card-customer-attrition-with-m/BankChurners.csv\")\n",
        "credit"
      ],
      "metadata": {
        "execution": {
          "iopub.status.busy": "2023-05-03T16:10:37.798837Z",
          "iopub.execute_input": "2023-05-03T16:10:37.799348Z",
          "iopub.status.idle": "2023-05-03T16:10:37.88956Z",
          "shell.execute_reply.started": "2023-05-03T16:10:37.799311Z",
          "shell.execute_reply": "2023-05-03T16:10:37.888163Z"
        },
        "trusted": true,
        "id": "sog3S7TBOVdg",
        "colab": {
          "base_uri": "https://localhost:8080/",
          "height": 617
        },
        "outputId": "89d64d2f-9ce8-4842-8088-08c5bfee5150"
      },
      "execution_count": 5,
      "outputs": [
        {
          "output_type": "execute_result",
          "data": {
            "text/plain": [
              "       CLIENTNUM     Attrition_Flag  Customer_Age Gender  Dependent_count  \\\n",
              "0      768805383  Existing Customer            45      M                3   \n",
              "1      818770008  Existing Customer            49      F                5   \n",
              "2      713982108  Existing Customer            51      M                3   \n",
              "3      769911858  Existing Customer            40      F                4   \n",
              "4      709106358  Existing Customer            40      M                3   \n",
              "...          ...                ...           ...    ...              ...   \n",
              "10122  772366833  Existing Customer            50      M                2   \n",
              "10123  710638233  Attrited Customer            41      M                2   \n",
              "10124  716506083  Attrited Customer            44      F                1   \n",
              "10125  717406983  Attrited Customer            30      M                2   \n",
              "10126  714337233  Attrited Customer            43      F                2   \n",
              "\n",
              "      Education_Level Marital_Status Income_Category Card_Category  \\\n",
              "0         High School        Married     $60K - $80K          Blue   \n",
              "1            Graduate         Single  Less than $40K          Blue   \n",
              "2            Graduate        Married    $80K - $120K          Blue   \n",
              "3         High School        Unknown  Less than $40K          Blue   \n",
              "4          Uneducated        Married     $60K - $80K          Blue   \n",
              "...               ...            ...             ...           ...   \n",
              "10122        Graduate         Single     $40K - $60K          Blue   \n",
              "10123         Unknown       Divorced     $40K - $60K          Blue   \n",
              "10124     High School        Married  Less than $40K          Blue   \n",
              "10125        Graduate        Unknown     $40K - $60K          Blue   \n",
              "10126        Graduate        Married  Less than $40K        Silver   \n",
              "\n",
              "       Months_on_book  ...  Credit_Limit  Total_Revolving_Bal  \\\n",
              "0                  39  ...       12691.0                  777   \n",
              "1                  44  ...        8256.0                  864   \n",
              "2                  36  ...        3418.0                    0   \n",
              "3                  34  ...        3313.0                 2517   \n",
              "4                  21  ...        4716.0                    0   \n",
              "...               ...  ...           ...                  ...   \n",
              "10122              40  ...        4003.0                 1851   \n",
              "10123              25  ...        4277.0                 2186   \n",
              "10124              36  ...        5409.0                    0   \n",
              "10125              36  ...        5281.0                    0   \n",
              "10126              25  ...       10388.0                 1961   \n",
              "\n",
              "       Avg_Open_To_Buy  Total_Amt_Chng_Q4_Q1  Total_Trans_Amt  Total_Trans_Ct  \\\n",
              "0              11914.0                 1.335             1144              42   \n",
              "1               7392.0                 1.541             1291              33   \n",
              "2               3418.0                 2.594             1887              20   \n",
              "3                796.0                 1.405             1171              20   \n",
              "4               4716.0                 2.175              816              28   \n",
              "...                ...                   ...              ...             ...   \n",
              "10122           2152.0                 0.703            15476             117   \n",
              "10123           2091.0                 0.804             8764              69   \n",
              "10124           5409.0                 0.819            10291              60   \n",
              "10125           5281.0                 0.535             8395              62   \n",
              "10126           8427.0                 0.703            10294              61   \n",
              "\n",
              "       Total_Ct_Chng_Q4_Q1  Avg_Utilization_Ratio  \\\n",
              "0                    1.625                  0.061   \n",
              "1                    3.714                  0.105   \n",
              "2                    2.333                  0.000   \n",
              "3                    2.333                  0.760   \n",
              "4                    2.500                  0.000   \n",
              "...                    ...                    ...   \n",
              "10122                0.857                  0.462   \n",
              "10123                0.683                  0.511   \n",
              "10124                0.818                  0.000   \n",
              "10125                0.722                  0.000   \n",
              "10126                0.649                  0.189   \n",
              "\n",
              "       Naive_Bayes_Classifier_Attrition_Flag_Card_Category_Contacts_Count_12_mon_Dependent_count_Education_Level_Months_Inactive_12_mon_1  \\\n",
              "0                                               0.000093                                                                                    \n",
              "1                                               0.000057                                                                                    \n",
              "2                                               0.000021                                                                                    \n",
              "3                                               0.000134                                                                                    \n",
              "4                                               0.000022                                                                                    \n",
              "...                                                  ...                                                                                    \n",
              "10122                                           0.000191                                                                                    \n",
              "10123                                           0.995270                                                                                    \n",
              "10124                                           0.997880                                                                                    \n",
              "10125                                           0.996710                                                                                    \n",
              "10126                                           0.996620                                                                                    \n",
              "\n",
              "       Naive_Bayes_Classifier_Attrition_Flag_Card_Category_Contacts_Count_12_mon_Dependent_count_Education_Level_Months_Inactive_12_mon_2  \n",
              "0                                               0.999910                                                                                   \n",
              "1                                               0.999940                                                                                   \n",
              "2                                               0.999980                                                                                   \n",
              "3                                               0.999870                                                                                   \n",
              "4                                               0.999980                                                                                   \n",
              "...                                                  ...                                                                                   \n",
              "10122                                           0.999810                                                                                   \n",
              "10123                                           0.004729                                                                                   \n",
              "10124                                           0.002118                                                                                   \n",
              "10125                                           0.003294                                                                                   \n",
              "10126                                           0.003377                                                                                   \n",
              "\n",
              "[10127 rows x 23 columns]"
            ],
            "text/html": [
              "\n",
              "  <div id=\"df-688e210b-c280-4830-b826-02e24e71d0ac\" class=\"colab-df-container\">\n",
              "    <div>\n",
              "<style scoped>\n",
              "    .dataframe tbody tr th:only-of-type {\n",
              "        vertical-align: middle;\n",
              "    }\n",
              "\n",
              "    .dataframe tbody tr th {\n",
              "        vertical-align: top;\n",
              "    }\n",
              "\n",
              "    .dataframe thead th {\n",
              "        text-align: right;\n",
              "    }\n",
              "</style>\n",
              "<table border=\"1\" class=\"dataframe\">\n",
              "  <thead>\n",
              "    <tr style=\"text-align: right;\">\n",
              "      <th></th>\n",
              "      <th>CLIENTNUM</th>\n",
              "      <th>Attrition_Flag</th>\n",
              "      <th>Customer_Age</th>\n",
              "      <th>Gender</th>\n",
              "      <th>Dependent_count</th>\n",
              "      <th>Education_Level</th>\n",
              "      <th>Marital_Status</th>\n",
              "      <th>Income_Category</th>\n",
              "      <th>Card_Category</th>\n",
              "      <th>Months_on_book</th>\n",
              "      <th>...</th>\n",
              "      <th>Credit_Limit</th>\n",
              "      <th>Total_Revolving_Bal</th>\n",
              "      <th>Avg_Open_To_Buy</th>\n",
              "      <th>Total_Amt_Chng_Q4_Q1</th>\n",
              "      <th>Total_Trans_Amt</th>\n",
              "      <th>Total_Trans_Ct</th>\n",
              "      <th>Total_Ct_Chng_Q4_Q1</th>\n",
              "      <th>Avg_Utilization_Ratio</th>\n",
              "      <th>Naive_Bayes_Classifier_Attrition_Flag_Card_Category_Contacts_Count_12_mon_Dependent_count_Education_Level_Months_Inactive_12_mon_1</th>\n",
              "      <th>Naive_Bayes_Classifier_Attrition_Flag_Card_Category_Contacts_Count_12_mon_Dependent_count_Education_Level_Months_Inactive_12_mon_2</th>\n",
              "    </tr>\n",
              "  </thead>\n",
              "  <tbody>\n",
              "    <tr>\n",
              "      <th>0</th>\n",
              "      <td>768805383</td>\n",
              "      <td>Existing Customer</td>\n",
              "      <td>45</td>\n",
              "      <td>M</td>\n",
              "      <td>3</td>\n",
              "      <td>High School</td>\n",
              "      <td>Married</td>\n",
              "      <td>$60K - $80K</td>\n",
              "      <td>Blue</td>\n",
              "      <td>39</td>\n",
              "      <td>...</td>\n",
              "      <td>12691.0</td>\n",
              "      <td>777</td>\n",
              "      <td>11914.0</td>\n",
              "      <td>1.335</td>\n",
              "      <td>1144</td>\n",
              "      <td>42</td>\n",
              "      <td>1.625</td>\n",
              "      <td>0.061</td>\n",
              "      <td>0.000093</td>\n",
              "      <td>0.999910</td>\n",
              "    </tr>\n",
              "    <tr>\n",
              "      <th>1</th>\n",
              "      <td>818770008</td>\n",
              "      <td>Existing Customer</td>\n",
              "      <td>49</td>\n",
              "      <td>F</td>\n",
              "      <td>5</td>\n",
              "      <td>Graduate</td>\n",
              "      <td>Single</td>\n",
              "      <td>Less than $40K</td>\n",
              "      <td>Blue</td>\n",
              "      <td>44</td>\n",
              "      <td>...</td>\n",
              "      <td>8256.0</td>\n",
              "      <td>864</td>\n",
              "      <td>7392.0</td>\n",
              "      <td>1.541</td>\n",
              "      <td>1291</td>\n",
              "      <td>33</td>\n",
              "      <td>3.714</td>\n",
              "      <td>0.105</td>\n",
              "      <td>0.000057</td>\n",
              "      <td>0.999940</td>\n",
              "    </tr>\n",
              "    <tr>\n",
              "      <th>2</th>\n",
              "      <td>713982108</td>\n",
              "      <td>Existing Customer</td>\n",
              "      <td>51</td>\n",
              "      <td>M</td>\n",
              "      <td>3</td>\n",
              "      <td>Graduate</td>\n",
              "      <td>Married</td>\n",
              "      <td>$80K - $120K</td>\n",
              "      <td>Blue</td>\n",
              "      <td>36</td>\n",
              "      <td>...</td>\n",
              "      <td>3418.0</td>\n",
              "      <td>0</td>\n",
              "      <td>3418.0</td>\n",
              "      <td>2.594</td>\n",
              "      <td>1887</td>\n",
              "      <td>20</td>\n",
              "      <td>2.333</td>\n",
              "      <td>0.000</td>\n",
              "      <td>0.000021</td>\n",
              "      <td>0.999980</td>\n",
              "    </tr>\n",
              "    <tr>\n",
              "      <th>3</th>\n",
              "      <td>769911858</td>\n",
              "      <td>Existing Customer</td>\n",
              "      <td>40</td>\n",
              "      <td>F</td>\n",
              "      <td>4</td>\n",
              "      <td>High School</td>\n",
              "      <td>Unknown</td>\n",
              "      <td>Less than $40K</td>\n",
              "      <td>Blue</td>\n",
              "      <td>34</td>\n",
              "      <td>...</td>\n",
              "      <td>3313.0</td>\n",
              "      <td>2517</td>\n",
              "      <td>796.0</td>\n",
              "      <td>1.405</td>\n",
              "      <td>1171</td>\n",
              "      <td>20</td>\n",
              "      <td>2.333</td>\n",
              "      <td>0.760</td>\n",
              "      <td>0.000134</td>\n",
              "      <td>0.999870</td>\n",
              "    </tr>\n",
              "    <tr>\n",
              "      <th>4</th>\n",
              "      <td>709106358</td>\n",
              "      <td>Existing Customer</td>\n",
              "      <td>40</td>\n",
              "      <td>M</td>\n",
              "      <td>3</td>\n",
              "      <td>Uneducated</td>\n",
              "      <td>Married</td>\n",
              "      <td>$60K - $80K</td>\n",
              "      <td>Blue</td>\n",
              "      <td>21</td>\n",
              "      <td>...</td>\n",
              "      <td>4716.0</td>\n",
              "      <td>0</td>\n",
              "      <td>4716.0</td>\n",
              "      <td>2.175</td>\n",
              "      <td>816</td>\n",
              "      <td>28</td>\n",
              "      <td>2.500</td>\n",
              "      <td>0.000</td>\n",
              "      <td>0.000022</td>\n",
              "      <td>0.999980</td>\n",
              "    </tr>\n",
              "    <tr>\n",
              "      <th>...</th>\n",
              "      <td>...</td>\n",
              "      <td>...</td>\n",
              "      <td>...</td>\n",
              "      <td>...</td>\n",
              "      <td>...</td>\n",
              "      <td>...</td>\n",
              "      <td>...</td>\n",
              "      <td>...</td>\n",
              "      <td>...</td>\n",
              "      <td>...</td>\n",
              "      <td>...</td>\n",
              "      <td>...</td>\n",
              "      <td>...</td>\n",
              "      <td>...</td>\n",
              "      <td>...</td>\n",
              "      <td>...</td>\n",
              "      <td>...</td>\n",
              "      <td>...</td>\n",
              "      <td>...</td>\n",
              "      <td>...</td>\n",
              "      <td>...</td>\n",
              "    </tr>\n",
              "    <tr>\n",
              "      <th>10122</th>\n",
              "      <td>772366833</td>\n",
              "      <td>Existing Customer</td>\n",
              "      <td>50</td>\n",
              "      <td>M</td>\n",
              "      <td>2</td>\n",
              "      <td>Graduate</td>\n",
              "      <td>Single</td>\n",
              "      <td>$40K - $60K</td>\n",
              "      <td>Blue</td>\n",
              "      <td>40</td>\n",
              "      <td>...</td>\n",
              "      <td>4003.0</td>\n",
              "      <td>1851</td>\n",
              "      <td>2152.0</td>\n",
              "      <td>0.703</td>\n",
              "      <td>15476</td>\n",
              "      <td>117</td>\n",
              "      <td>0.857</td>\n",
              "      <td>0.462</td>\n",
              "      <td>0.000191</td>\n",
              "      <td>0.999810</td>\n",
              "    </tr>\n",
              "    <tr>\n",
              "      <th>10123</th>\n",
              "      <td>710638233</td>\n",
              "      <td>Attrited Customer</td>\n",
              "      <td>41</td>\n",
              "      <td>M</td>\n",
              "      <td>2</td>\n",
              "      <td>Unknown</td>\n",
              "      <td>Divorced</td>\n",
              "      <td>$40K - $60K</td>\n",
              "      <td>Blue</td>\n",
              "      <td>25</td>\n",
              "      <td>...</td>\n",
              "      <td>4277.0</td>\n",
              "      <td>2186</td>\n",
              "      <td>2091.0</td>\n",
              "      <td>0.804</td>\n",
              "      <td>8764</td>\n",
              "      <td>69</td>\n",
              "      <td>0.683</td>\n",
              "      <td>0.511</td>\n",
              "      <td>0.995270</td>\n",
              "      <td>0.004729</td>\n",
              "    </tr>\n",
              "    <tr>\n",
              "      <th>10124</th>\n",
              "      <td>716506083</td>\n",
              "      <td>Attrited Customer</td>\n",
              "      <td>44</td>\n",
              "      <td>F</td>\n",
              "      <td>1</td>\n",
              "      <td>High School</td>\n",
              "      <td>Married</td>\n",
              "      <td>Less than $40K</td>\n",
              "      <td>Blue</td>\n",
              "      <td>36</td>\n",
              "      <td>...</td>\n",
              "      <td>5409.0</td>\n",
              "      <td>0</td>\n",
              "      <td>5409.0</td>\n",
              "      <td>0.819</td>\n",
              "      <td>10291</td>\n",
              "      <td>60</td>\n",
              "      <td>0.818</td>\n",
              "      <td>0.000</td>\n",
              "      <td>0.997880</td>\n",
              "      <td>0.002118</td>\n",
              "    </tr>\n",
              "    <tr>\n",
              "      <th>10125</th>\n",
              "      <td>717406983</td>\n",
              "      <td>Attrited Customer</td>\n",
              "      <td>30</td>\n",
              "      <td>M</td>\n",
              "      <td>2</td>\n",
              "      <td>Graduate</td>\n",
              "      <td>Unknown</td>\n",
              "      <td>$40K - $60K</td>\n",
              "      <td>Blue</td>\n",
              "      <td>36</td>\n",
              "      <td>...</td>\n",
              "      <td>5281.0</td>\n",
              "      <td>0</td>\n",
              "      <td>5281.0</td>\n",
              "      <td>0.535</td>\n",
              "      <td>8395</td>\n",
              "      <td>62</td>\n",
              "      <td>0.722</td>\n",
              "      <td>0.000</td>\n",
              "      <td>0.996710</td>\n",
              "      <td>0.003294</td>\n",
              "    </tr>\n",
              "    <tr>\n",
              "      <th>10126</th>\n",
              "      <td>714337233</td>\n",
              "      <td>Attrited Customer</td>\n",
              "      <td>43</td>\n",
              "      <td>F</td>\n",
              "      <td>2</td>\n",
              "      <td>Graduate</td>\n",
              "      <td>Married</td>\n",
              "      <td>Less than $40K</td>\n",
              "      <td>Silver</td>\n",
              "      <td>25</td>\n",
              "      <td>...</td>\n",
              "      <td>10388.0</td>\n",
              "      <td>1961</td>\n",
              "      <td>8427.0</td>\n",
              "      <td>0.703</td>\n",
              "      <td>10294</td>\n",
              "      <td>61</td>\n",
              "      <td>0.649</td>\n",
              "      <td>0.189</td>\n",
              "      <td>0.996620</td>\n",
              "      <td>0.003377</td>\n",
              "    </tr>\n",
              "  </tbody>\n",
              "</table>\n",
              "<p>10127 rows × 23 columns</p>\n",
              "</div>\n",
              "    <div class=\"colab-df-buttons\">\n",
              "\n",
              "  <div class=\"colab-df-container\">\n",
              "    <button class=\"colab-df-convert\" onclick=\"convertToInteractive('df-688e210b-c280-4830-b826-02e24e71d0ac')\"\n",
              "            title=\"Convert this dataframe to an interactive table.\"\n",
              "            style=\"display:none;\">\n",
              "\n",
              "  <svg xmlns=\"http://www.w3.org/2000/svg\" height=\"24px\" viewBox=\"0 -960 960 960\">\n",
              "    <path d=\"M120-120v-720h720v720H120Zm60-500h600v-160H180v160Zm220 220h160v-160H400v160Zm0 220h160v-160H400v160ZM180-400h160v-160H180v160Zm440 0h160v-160H620v160ZM180-180h160v-160H180v160Zm440 0h160v-160H620v160Z\"/>\n",
              "  </svg>\n",
              "    </button>\n",
              "\n",
              "  <style>\n",
              "    .colab-df-container {\n",
              "      display:flex;\n",
              "      gap: 12px;\n",
              "    }\n",
              "\n",
              "    .colab-df-convert {\n",
              "      background-color: #E8F0FE;\n",
              "      border: none;\n",
              "      border-radius: 50%;\n",
              "      cursor: pointer;\n",
              "      display: none;\n",
              "      fill: #1967D2;\n",
              "      height: 32px;\n",
              "      padding: 0 0 0 0;\n",
              "      width: 32px;\n",
              "    }\n",
              "\n",
              "    .colab-df-convert:hover {\n",
              "      background-color: #E2EBFA;\n",
              "      box-shadow: 0px 1px 2px rgba(60, 64, 67, 0.3), 0px 1px 3px 1px rgba(60, 64, 67, 0.15);\n",
              "      fill: #174EA6;\n",
              "    }\n",
              "\n",
              "    .colab-df-buttons div {\n",
              "      margin-bottom: 4px;\n",
              "    }\n",
              "\n",
              "    [theme=dark] .colab-df-convert {\n",
              "      background-color: #3B4455;\n",
              "      fill: #D2E3FC;\n",
              "    }\n",
              "\n",
              "    [theme=dark] .colab-df-convert:hover {\n",
              "      background-color: #434B5C;\n",
              "      box-shadow: 0px 1px 3px 1px rgba(0, 0, 0, 0.15);\n",
              "      filter: drop-shadow(0px 1px 2px rgba(0, 0, 0, 0.3));\n",
              "      fill: #FFFFFF;\n",
              "    }\n",
              "  </style>\n",
              "\n",
              "    <script>\n",
              "      const buttonEl =\n",
              "        document.querySelector('#df-688e210b-c280-4830-b826-02e24e71d0ac button.colab-df-convert');\n",
              "      buttonEl.style.display =\n",
              "        google.colab.kernel.accessAllowed ? 'block' : 'none';\n",
              "\n",
              "      async function convertToInteractive(key) {\n",
              "        const element = document.querySelector('#df-688e210b-c280-4830-b826-02e24e71d0ac');\n",
              "        const dataTable =\n",
              "          await google.colab.kernel.invokeFunction('convertToInteractive',\n",
              "                                                    [key], {});\n",
              "        if (!dataTable) return;\n",
              "\n",
              "        const docLinkHtml = 'Like what you see? Visit the ' +\n",
              "          '<a target=\"_blank\" href=https://colab.research.google.com/notebooks/data_table.ipynb>data table notebook</a>'\n",
              "          + ' to learn more about interactive tables.';\n",
              "        element.innerHTML = '';\n",
              "        dataTable['output_type'] = 'display_data';\n",
              "        await google.colab.output.renderOutput(dataTable, element);\n",
              "        const docLink = document.createElement('div');\n",
              "        docLink.innerHTML = docLinkHtml;\n",
              "        element.appendChild(docLink);\n",
              "      }\n",
              "    </script>\n",
              "  </div>\n",
              "\n",
              "\n",
              "<div id=\"df-b86ed946-3116-4742-8862-4fccad3db2c4\">\n",
              "  <button class=\"colab-df-quickchart\" onclick=\"quickchart('df-b86ed946-3116-4742-8862-4fccad3db2c4')\"\n",
              "            title=\"Suggest charts\"\n",
              "            style=\"display:none;\">\n",
              "\n",
              "<svg xmlns=\"http://www.w3.org/2000/svg\" height=\"24px\"viewBox=\"0 0 24 24\"\n",
              "     width=\"24px\">\n",
              "    <g>\n",
              "        <path d=\"M19 3H5c-1.1 0-2 .9-2 2v14c0 1.1.9 2 2 2h14c1.1 0 2-.9 2-2V5c0-1.1-.9-2-2-2zM9 17H7v-7h2v7zm4 0h-2V7h2v10zm4 0h-2v-4h2v4z\"/>\n",
              "    </g>\n",
              "</svg>\n",
              "  </button>\n",
              "\n",
              "<style>\n",
              "  .colab-df-quickchart {\n",
              "      --bg-color: #E8F0FE;\n",
              "      --fill-color: #1967D2;\n",
              "      --hover-bg-color: #E2EBFA;\n",
              "      --hover-fill-color: #174EA6;\n",
              "      --disabled-fill-color: #AAA;\n",
              "      --disabled-bg-color: #DDD;\n",
              "  }\n",
              "\n",
              "  [theme=dark] .colab-df-quickchart {\n",
              "      --bg-color: #3B4455;\n",
              "      --fill-color: #D2E3FC;\n",
              "      --hover-bg-color: #434B5C;\n",
              "      --hover-fill-color: #FFFFFF;\n",
              "      --disabled-bg-color: #3B4455;\n",
              "      --disabled-fill-color: #666;\n",
              "  }\n",
              "\n",
              "  .colab-df-quickchart {\n",
              "    background-color: var(--bg-color);\n",
              "    border: none;\n",
              "    border-radius: 50%;\n",
              "    cursor: pointer;\n",
              "    display: none;\n",
              "    fill: var(--fill-color);\n",
              "    height: 32px;\n",
              "    padding: 0;\n",
              "    width: 32px;\n",
              "  }\n",
              "\n",
              "  .colab-df-quickchart:hover {\n",
              "    background-color: var(--hover-bg-color);\n",
              "    box-shadow: 0 1px 2px rgba(60, 64, 67, 0.3), 0 1px 3px 1px rgba(60, 64, 67, 0.15);\n",
              "    fill: var(--button-hover-fill-color);\n",
              "  }\n",
              "\n",
              "  .colab-df-quickchart-complete:disabled,\n",
              "  .colab-df-quickchart-complete:disabled:hover {\n",
              "    background-color: var(--disabled-bg-color);\n",
              "    fill: var(--disabled-fill-color);\n",
              "    box-shadow: none;\n",
              "  }\n",
              "\n",
              "  .colab-df-spinner {\n",
              "    border: 2px solid var(--fill-color);\n",
              "    border-color: transparent;\n",
              "    border-bottom-color: var(--fill-color);\n",
              "    animation:\n",
              "      spin 1s steps(1) infinite;\n",
              "  }\n",
              "\n",
              "  @keyframes spin {\n",
              "    0% {\n",
              "      border-color: transparent;\n",
              "      border-bottom-color: var(--fill-color);\n",
              "      border-left-color: var(--fill-color);\n",
              "    }\n",
              "    20% {\n",
              "      border-color: transparent;\n",
              "      border-left-color: var(--fill-color);\n",
              "      border-top-color: var(--fill-color);\n",
              "    }\n",
              "    30% {\n",
              "      border-color: transparent;\n",
              "      border-left-color: var(--fill-color);\n",
              "      border-top-color: var(--fill-color);\n",
              "      border-right-color: var(--fill-color);\n",
              "    }\n",
              "    40% {\n",
              "      border-color: transparent;\n",
              "      border-right-color: var(--fill-color);\n",
              "      border-top-color: var(--fill-color);\n",
              "    }\n",
              "    60% {\n",
              "      border-color: transparent;\n",
              "      border-right-color: var(--fill-color);\n",
              "    }\n",
              "    80% {\n",
              "      border-color: transparent;\n",
              "      border-right-color: var(--fill-color);\n",
              "      border-bottom-color: var(--fill-color);\n",
              "    }\n",
              "    90% {\n",
              "      border-color: transparent;\n",
              "      border-bottom-color: var(--fill-color);\n",
              "    }\n",
              "  }\n",
              "</style>\n",
              "\n",
              "  <script>\n",
              "    async function quickchart(key) {\n",
              "      const quickchartButtonEl =\n",
              "        document.querySelector('#' + key + ' button');\n",
              "      quickchartButtonEl.disabled = true;  // To prevent multiple clicks.\n",
              "      quickchartButtonEl.classList.add('colab-df-spinner');\n",
              "      try {\n",
              "        const charts = await google.colab.kernel.invokeFunction(\n",
              "            'suggestCharts', [key], {});\n",
              "      } catch (error) {\n",
              "        console.error('Error during call to suggestCharts:', error);\n",
              "      }\n",
              "      quickchartButtonEl.classList.remove('colab-df-spinner');\n",
              "      quickchartButtonEl.classList.add('colab-df-quickchart-complete');\n",
              "    }\n",
              "    (() => {\n",
              "      let quickchartButtonEl =\n",
              "        document.querySelector('#df-b86ed946-3116-4742-8862-4fccad3db2c4 button');\n",
              "      quickchartButtonEl.style.display =\n",
              "        google.colab.kernel.accessAllowed ? 'block' : 'none';\n",
              "    })();\n",
              "  </script>\n",
              "</div>\n",
              "    </div>\n",
              "  </div>\n"
            ],
            "application/vnd.google.colaboratory.intrinsic+json": {
              "type": "dataframe",
              "variable_name": "credit"
            }
          },
          "metadata": {},
          "execution_count": 5
        }
      ]
    },
    {
      "cell_type": "markdown",
      "source": [
        "1. Dataset has 10127 entries and 23 Columns"
      ],
      "metadata": {
        "id": "a7L-NcbPOVdg"
      }
    },
    {
      "cell_type": "code",
      "source": [
        "credit = credit.loc[:, ~credit.columns.isin(['Naive_Bayes_Classifier_Attrition_Flag_Card_Category_Contacts_Count_12_mon_Dependent_count_Education_Level_Months_Inactive_12_mon_1', 'Naive_Bayes_Classifier_Attrition_Flag_Card_Category_Contacts_Count_12_mon_Dependent_count_Education_Level_Months_Inactive_12_mon_2'])]"
      ],
      "metadata": {
        "execution": {
          "iopub.status.busy": "2023-05-03T16:10:41.576041Z",
          "iopub.execute_input": "2023-05-03T16:10:41.576627Z",
          "iopub.status.idle": "2023-05-03T16:10:41.586248Z",
          "shell.execute_reply.started": "2023-05-03T16:10:41.576586Z",
          "shell.execute_reply": "2023-05-03T16:10:41.584423Z"
        },
        "trusted": true,
        "id": "66hQPnwXOVdg"
      },
      "execution_count": 6,
      "outputs": []
    },
    {
      "cell_type": "markdown",
      "source": [
        "Temporarily getting rid of last two columns due to excessive length."
      ],
      "metadata": {
        "id": "ljxlvlA7OVdh"
      }
    },
    {
      "cell_type": "code",
      "source": [
        "credit.describe()"
      ],
      "metadata": {
        "execution": {
          "iopub.status.busy": "2023-05-03T15:34:07.899371Z",
          "iopub.execute_input": "2023-05-03T15:34:07.899726Z",
          "iopub.status.idle": "2023-05-03T15:34:07.966368Z",
          "shell.execute_reply.started": "2023-05-03T15:34:07.899694Z",
          "shell.execute_reply": "2023-05-03T15:34:07.965304Z"
        },
        "trusted": true,
        "id": "waUO_c2FOVdh",
        "colab": {
          "base_uri": "https://localhost:8080/",
          "height": 320
        },
        "outputId": "0ee29f87-9c3b-4e80-c011-810a82b1a69e"
      },
      "execution_count": 7,
      "outputs": [
        {
          "output_type": "execute_result",
          "data": {
            "text/plain": [
              "          CLIENTNUM  Customer_Age  Dependent_count  Months_on_book  \\\n",
              "count  1.012700e+04  10127.000000     10127.000000    10127.000000   \n",
              "mean   7.391776e+08     46.325960         2.346203       35.928409   \n",
              "std    3.690378e+07      8.016814         1.298908        7.986416   \n",
              "min    7.080821e+08     26.000000         0.000000       13.000000   \n",
              "25%    7.130368e+08     41.000000         1.000000       31.000000   \n",
              "50%    7.179264e+08     46.000000         2.000000       36.000000   \n",
              "75%    7.731435e+08     52.000000         3.000000       40.000000   \n",
              "max    8.283431e+08     73.000000         5.000000       56.000000   \n",
              "\n",
              "       Total_Relationship_Count  Months_Inactive_12_mon  \\\n",
              "count              10127.000000            10127.000000   \n",
              "mean                   3.812580                2.341167   \n",
              "std                    1.554408                1.010622   \n",
              "min                    1.000000                0.000000   \n",
              "25%                    3.000000                2.000000   \n",
              "50%                    4.000000                2.000000   \n",
              "75%                    5.000000                3.000000   \n",
              "max                    6.000000                6.000000   \n",
              "\n",
              "       Contacts_Count_12_mon  Credit_Limit  Total_Revolving_Bal  \\\n",
              "count           10127.000000  10127.000000         10127.000000   \n",
              "mean                2.455317   8631.953698          1162.814061   \n",
              "std                 1.106225   9088.776650           814.987335   \n",
              "min                 0.000000   1438.300000             0.000000   \n",
              "25%                 2.000000   2555.000000           359.000000   \n",
              "50%                 2.000000   4549.000000          1276.000000   \n",
              "75%                 3.000000  11067.500000          1784.000000   \n",
              "max                 6.000000  34516.000000          2517.000000   \n",
              "\n",
              "       Avg_Open_To_Buy  Total_Amt_Chng_Q4_Q1  Total_Trans_Amt  Total_Trans_Ct  \\\n",
              "count     10127.000000          10127.000000     10127.000000    10127.000000   \n",
              "mean       7469.139637              0.759941      4404.086304       64.858695   \n",
              "std        9090.685324              0.219207      3397.129254       23.472570   \n",
              "min           3.000000              0.000000       510.000000       10.000000   \n",
              "25%        1324.500000              0.631000      2155.500000       45.000000   \n",
              "50%        3474.000000              0.736000      3899.000000       67.000000   \n",
              "75%        9859.000000              0.859000      4741.000000       81.000000   \n",
              "max       34516.000000              3.397000     18484.000000      139.000000   \n",
              "\n",
              "       Total_Ct_Chng_Q4_Q1  Avg_Utilization_Ratio  \n",
              "count         10127.000000           10127.000000  \n",
              "mean              0.712222               0.274894  \n",
              "std               0.238086               0.275691  \n",
              "min               0.000000               0.000000  \n",
              "25%               0.582000               0.023000  \n",
              "50%               0.702000               0.176000  \n",
              "75%               0.818000               0.503000  \n",
              "max               3.714000               0.999000  "
            ],
            "text/html": [
              "\n",
              "  <div id=\"df-8d073fe5-f695-4fa7-a0fd-0b22c5965075\" class=\"colab-df-container\">\n",
              "    <div>\n",
              "<style scoped>\n",
              "    .dataframe tbody tr th:only-of-type {\n",
              "        vertical-align: middle;\n",
              "    }\n",
              "\n",
              "    .dataframe tbody tr th {\n",
              "        vertical-align: top;\n",
              "    }\n",
              "\n",
              "    .dataframe thead th {\n",
              "        text-align: right;\n",
              "    }\n",
              "</style>\n",
              "<table border=\"1\" class=\"dataframe\">\n",
              "  <thead>\n",
              "    <tr style=\"text-align: right;\">\n",
              "      <th></th>\n",
              "      <th>CLIENTNUM</th>\n",
              "      <th>Customer_Age</th>\n",
              "      <th>Dependent_count</th>\n",
              "      <th>Months_on_book</th>\n",
              "      <th>Total_Relationship_Count</th>\n",
              "      <th>Months_Inactive_12_mon</th>\n",
              "      <th>Contacts_Count_12_mon</th>\n",
              "      <th>Credit_Limit</th>\n",
              "      <th>Total_Revolving_Bal</th>\n",
              "      <th>Avg_Open_To_Buy</th>\n",
              "      <th>Total_Amt_Chng_Q4_Q1</th>\n",
              "      <th>Total_Trans_Amt</th>\n",
              "      <th>Total_Trans_Ct</th>\n",
              "      <th>Total_Ct_Chng_Q4_Q1</th>\n",
              "      <th>Avg_Utilization_Ratio</th>\n",
              "    </tr>\n",
              "  </thead>\n",
              "  <tbody>\n",
              "    <tr>\n",
              "      <th>count</th>\n",
              "      <td>1.012700e+04</td>\n",
              "      <td>10127.000000</td>\n",
              "      <td>10127.000000</td>\n",
              "      <td>10127.000000</td>\n",
              "      <td>10127.000000</td>\n",
              "      <td>10127.000000</td>\n",
              "      <td>10127.000000</td>\n",
              "      <td>10127.000000</td>\n",
              "      <td>10127.000000</td>\n",
              "      <td>10127.000000</td>\n",
              "      <td>10127.000000</td>\n",
              "      <td>10127.000000</td>\n",
              "      <td>10127.000000</td>\n",
              "      <td>10127.000000</td>\n",
              "      <td>10127.000000</td>\n",
              "    </tr>\n",
              "    <tr>\n",
              "      <th>mean</th>\n",
              "      <td>7.391776e+08</td>\n",
              "      <td>46.325960</td>\n",
              "      <td>2.346203</td>\n",
              "      <td>35.928409</td>\n",
              "      <td>3.812580</td>\n",
              "      <td>2.341167</td>\n",
              "      <td>2.455317</td>\n",
              "      <td>8631.953698</td>\n",
              "      <td>1162.814061</td>\n",
              "      <td>7469.139637</td>\n",
              "      <td>0.759941</td>\n",
              "      <td>4404.086304</td>\n",
              "      <td>64.858695</td>\n",
              "      <td>0.712222</td>\n",
              "      <td>0.274894</td>\n",
              "    </tr>\n",
              "    <tr>\n",
              "      <th>std</th>\n",
              "      <td>3.690378e+07</td>\n",
              "      <td>8.016814</td>\n",
              "      <td>1.298908</td>\n",
              "      <td>7.986416</td>\n",
              "      <td>1.554408</td>\n",
              "      <td>1.010622</td>\n",
              "      <td>1.106225</td>\n",
              "      <td>9088.776650</td>\n",
              "      <td>814.987335</td>\n",
              "      <td>9090.685324</td>\n",
              "      <td>0.219207</td>\n",
              "      <td>3397.129254</td>\n",
              "      <td>23.472570</td>\n",
              "      <td>0.238086</td>\n",
              "      <td>0.275691</td>\n",
              "    </tr>\n",
              "    <tr>\n",
              "      <th>min</th>\n",
              "      <td>7.080821e+08</td>\n",
              "      <td>26.000000</td>\n",
              "      <td>0.000000</td>\n",
              "      <td>13.000000</td>\n",
              "      <td>1.000000</td>\n",
              "      <td>0.000000</td>\n",
              "      <td>0.000000</td>\n",
              "      <td>1438.300000</td>\n",
              "      <td>0.000000</td>\n",
              "      <td>3.000000</td>\n",
              "      <td>0.000000</td>\n",
              "      <td>510.000000</td>\n",
              "      <td>10.000000</td>\n",
              "      <td>0.000000</td>\n",
              "      <td>0.000000</td>\n",
              "    </tr>\n",
              "    <tr>\n",
              "      <th>25%</th>\n",
              "      <td>7.130368e+08</td>\n",
              "      <td>41.000000</td>\n",
              "      <td>1.000000</td>\n",
              "      <td>31.000000</td>\n",
              "      <td>3.000000</td>\n",
              "      <td>2.000000</td>\n",
              "      <td>2.000000</td>\n",
              "      <td>2555.000000</td>\n",
              "      <td>359.000000</td>\n",
              "      <td>1324.500000</td>\n",
              "      <td>0.631000</td>\n",
              "      <td>2155.500000</td>\n",
              "      <td>45.000000</td>\n",
              "      <td>0.582000</td>\n",
              "      <td>0.023000</td>\n",
              "    </tr>\n",
              "    <tr>\n",
              "      <th>50%</th>\n",
              "      <td>7.179264e+08</td>\n",
              "      <td>46.000000</td>\n",
              "      <td>2.000000</td>\n",
              "      <td>36.000000</td>\n",
              "      <td>4.000000</td>\n",
              "      <td>2.000000</td>\n",
              "      <td>2.000000</td>\n",
              "      <td>4549.000000</td>\n",
              "      <td>1276.000000</td>\n",
              "      <td>3474.000000</td>\n",
              "      <td>0.736000</td>\n",
              "      <td>3899.000000</td>\n",
              "      <td>67.000000</td>\n",
              "      <td>0.702000</td>\n",
              "      <td>0.176000</td>\n",
              "    </tr>\n",
              "    <tr>\n",
              "      <th>75%</th>\n",
              "      <td>7.731435e+08</td>\n",
              "      <td>52.000000</td>\n",
              "      <td>3.000000</td>\n",
              "      <td>40.000000</td>\n",
              "      <td>5.000000</td>\n",
              "      <td>3.000000</td>\n",
              "      <td>3.000000</td>\n",
              "      <td>11067.500000</td>\n",
              "      <td>1784.000000</td>\n",
              "      <td>9859.000000</td>\n",
              "      <td>0.859000</td>\n",
              "      <td>4741.000000</td>\n",
              "      <td>81.000000</td>\n",
              "      <td>0.818000</td>\n",
              "      <td>0.503000</td>\n",
              "    </tr>\n",
              "    <tr>\n",
              "      <th>max</th>\n",
              "      <td>8.283431e+08</td>\n",
              "      <td>73.000000</td>\n",
              "      <td>5.000000</td>\n",
              "      <td>56.000000</td>\n",
              "      <td>6.000000</td>\n",
              "      <td>6.000000</td>\n",
              "      <td>6.000000</td>\n",
              "      <td>34516.000000</td>\n",
              "      <td>2517.000000</td>\n",
              "      <td>34516.000000</td>\n",
              "      <td>3.397000</td>\n",
              "      <td>18484.000000</td>\n",
              "      <td>139.000000</td>\n",
              "      <td>3.714000</td>\n",
              "      <td>0.999000</td>\n",
              "    </tr>\n",
              "  </tbody>\n",
              "</table>\n",
              "</div>\n",
              "    <div class=\"colab-df-buttons\">\n",
              "\n",
              "  <div class=\"colab-df-container\">\n",
              "    <button class=\"colab-df-convert\" onclick=\"convertToInteractive('df-8d073fe5-f695-4fa7-a0fd-0b22c5965075')\"\n",
              "            title=\"Convert this dataframe to an interactive table.\"\n",
              "            style=\"display:none;\">\n",
              "\n",
              "  <svg xmlns=\"http://www.w3.org/2000/svg\" height=\"24px\" viewBox=\"0 -960 960 960\">\n",
              "    <path d=\"M120-120v-720h720v720H120Zm60-500h600v-160H180v160Zm220 220h160v-160H400v160Zm0 220h160v-160H400v160ZM180-400h160v-160H180v160Zm440 0h160v-160H620v160ZM180-180h160v-160H180v160Zm440 0h160v-160H620v160Z\"/>\n",
              "  </svg>\n",
              "    </button>\n",
              "\n",
              "  <style>\n",
              "    .colab-df-container {\n",
              "      display:flex;\n",
              "      gap: 12px;\n",
              "    }\n",
              "\n",
              "    .colab-df-convert {\n",
              "      background-color: #E8F0FE;\n",
              "      border: none;\n",
              "      border-radius: 50%;\n",
              "      cursor: pointer;\n",
              "      display: none;\n",
              "      fill: #1967D2;\n",
              "      height: 32px;\n",
              "      padding: 0 0 0 0;\n",
              "      width: 32px;\n",
              "    }\n",
              "\n",
              "    .colab-df-convert:hover {\n",
              "      background-color: #E2EBFA;\n",
              "      box-shadow: 0px 1px 2px rgba(60, 64, 67, 0.3), 0px 1px 3px 1px rgba(60, 64, 67, 0.15);\n",
              "      fill: #174EA6;\n",
              "    }\n",
              "\n",
              "    .colab-df-buttons div {\n",
              "      margin-bottom: 4px;\n",
              "    }\n",
              "\n",
              "    [theme=dark] .colab-df-convert {\n",
              "      background-color: #3B4455;\n",
              "      fill: #D2E3FC;\n",
              "    }\n",
              "\n",
              "    [theme=dark] .colab-df-convert:hover {\n",
              "      background-color: #434B5C;\n",
              "      box-shadow: 0px 1px 3px 1px rgba(0, 0, 0, 0.15);\n",
              "      filter: drop-shadow(0px 1px 2px rgba(0, 0, 0, 0.3));\n",
              "      fill: #FFFFFF;\n",
              "    }\n",
              "  </style>\n",
              "\n",
              "    <script>\n",
              "      const buttonEl =\n",
              "        document.querySelector('#df-8d073fe5-f695-4fa7-a0fd-0b22c5965075 button.colab-df-convert');\n",
              "      buttonEl.style.display =\n",
              "        google.colab.kernel.accessAllowed ? 'block' : 'none';\n",
              "\n",
              "      async function convertToInteractive(key) {\n",
              "        const element = document.querySelector('#df-8d073fe5-f695-4fa7-a0fd-0b22c5965075');\n",
              "        const dataTable =\n",
              "          await google.colab.kernel.invokeFunction('convertToInteractive',\n",
              "                                                    [key], {});\n",
              "        if (!dataTable) return;\n",
              "\n",
              "        const docLinkHtml = 'Like what you see? Visit the ' +\n",
              "          '<a target=\"_blank\" href=https://colab.research.google.com/notebooks/data_table.ipynb>data table notebook</a>'\n",
              "          + ' to learn more about interactive tables.';\n",
              "        element.innerHTML = '';\n",
              "        dataTable['output_type'] = 'display_data';\n",
              "        await google.colab.output.renderOutput(dataTable, element);\n",
              "        const docLink = document.createElement('div');\n",
              "        docLink.innerHTML = docLinkHtml;\n",
              "        element.appendChild(docLink);\n",
              "      }\n",
              "    </script>\n",
              "  </div>\n",
              "\n",
              "\n",
              "<div id=\"df-951a7d74-5be6-49dd-a8fc-efac4136a76f\">\n",
              "  <button class=\"colab-df-quickchart\" onclick=\"quickchart('df-951a7d74-5be6-49dd-a8fc-efac4136a76f')\"\n",
              "            title=\"Suggest charts\"\n",
              "            style=\"display:none;\">\n",
              "\n",
              "<svg xmlns=\"http://www.w3.org/2000/svg\" height=\"24px\"viewBox=\"0 0 24 24\"\n",
              "     width=\"24px\">\n",
              "    <g>\n",
              "        <path d=\"M19 3H5c-1.1 0-2 .9-2 2v14c0 1.1.9 2 2 2h14c1.1 0 2-.9 2-2V5c0-1.1-.9-2-2-2zM9 17H7v-7h2v7zm4 0h-2V7h2v10zm4 0h-2v-4h2v4z\"/>\n",
              "    </g>\n",
              "</svg>\n",
              "  </button>\n",
              "\n",
              "<style>\n",
              "  .colab-df-quickchart {\n",
              "      --bg-color: #E8F0FE;\n",
              "      --fill-color: #1967D2;\n",
              "      --hover-bg-color: #E2EBFA;\n",
              "      --hover-fill-color: #174EA6;\n",
              "      --disabled-fill-color: #AAA;\n",
              "      --disabled-bg-color: #DDD;\n",
              "  }\n",
              "\n",
              "  [theme=dark] .colab-df-quickchart {\n",
              "      --bg-color: #3B4455;\n",
              "      --fill-color: #D2E3FC;\n",
              "      --hover-bg-color: #434B5C;\n",
              "      --hover-fill-color: #FFFFFF;\n",
              "      --disabled-bg-color: #3B4455;\n",
              "      --disabled-fill-color: #666;\n",
              "  }\n",
              "\n",
              "  .colab-df-quickchart {\n",
              "    background-color: var(--bg-color);\n",
              "    border: none;\n",
              "    border-radius: 50%;\n",
              "    cursor: pointer;\n",
              "    display: none;\n",
              "    fill: var(--fill-color);\n",
              "    height: 32px;\n",
              "    padding: 0;\n",
              "    width: 32px;\n",
              "  }\n",
              "\n",
              "  .colab-df-quickchart:hover {\n",
              "    background-color: var(--hover-bg-color);\n",
              "    box-shadow: 0 1px 2px rgba(60, 64, 67, 0.3), 0 1px 3px 1px rgba(60, 64, 67, 0.15);\n",
              "    fill: var(--button-hover-fill-color);\n",
              "  }\n",
              "\n",
              "  .colab-df-quickchart-complete:disabled,\n",
              "  .colab-df-quickchart-complete:disabled:hover {\n",
              "    background-color: var(--disabled-bg-color);\n",
              "    fill: var(--disabled-fill-color);\n",
              "    box-shadow: none;\n",
              "  }\n",
              "\n",
              "  .colab-df-spinner {\n",
              "    border: 2px solid var(--fill-color);\n",
              "    border-color: transparent;\n",
              "    border-bottom-color: var(--fill-color);\n",
              "    animation:\n",
              "      spin 1s steps(1) infinite;\n",
              "  }\n",
              "\n",
              "  @keyframes spin {\n",
              "    0% {\n",
              "      border-color: transparent;\n",
              "      border-bottom-color: var(--fill-color);\n",
              "      border-left-color: var(--fill-color);\n",
              "    }\n",
              "    20% {\n",
              "      border-color: transparent;\n",
              "      border-left-color: var(--fill-color);\n",
              "      border-top-color: var(--fill-color);\n",
              "    }\n",
              "    30% {\n",
              "      border-color: transparent;\n",
              "      border-left-color: var(--fill-color);\n",
              "      border-top-color: var(--fill-color);\n",
              "      border-right-color: var(--fill-color);\n",
              "    }\n",
              "    40% {\n",
              "      border-color: transparent;\n",
              "      border-right-color: var(--fill-color);\n",
              "      border-top-color: var(--fill-color);\n",
              "    }\n",
              "    60% {\n",
              "      border-color: transparent;\n",
              "      border-right-color: var(--fill-color);\n",
              "    }\n",
              "    80% {\n",
              "      border-color: transparent;\n",
              "      border-right-color: var(--fill-color);\n",
              "      border-bottom-color: var(--fill-color);\n",
              "    }\n",
              "    90% {\n",
              "      border-color: transparent;\n",
              "      border-bottom-color: var(--fill-color);\n",
              "    }\n",
              "  }\n",
              "</style>\n",
              "\n",
              "  <script>\n",
              "    async function quickchart(key) {\n",
              "      const quickchartButtonEl =\n",
              "        document.querySelector('#' + key + ' button');\n",
              "      quickchartButtonEl.disabled = true;  // To prevent multiple clicks.\n",
              "      quickchartButtonEl.classList.add('colab-df-spinner');\n",
              "      try {\n",
              "        const charts = await google.colab.kernel.invokeFunction(\n",
              "            'suggestCharts', [key], {});\n",
              "      } catch (error) {\n",
              "        console.error('Error during call to suggestCharts:', error);\n",
              "      }\n",
              "      quickchartButtonEl.classList.remove('colab-df-spinner');\n",
              "      quickchartButtonEl.classList.add('colab-df-quickchart-complete');\n",
              "    }\n",
              "    (() => {\n",
              "      let quickchartButtonEl =\n",
              "        document.querySelector('#df-951a7d74-5be6-49dd-a8fc-efac4136a76f button');\n",
              "      quickchartButtonEl.style.display =\n",
              "        google.colab.kernel.accessAllowed ? 'block' : 'none';\n",
              "    })();\n",
              "  </script>\n",
              "</div>\n",
              "    </div>\n",
              "  </div>\n"
            ],
            "application/vnd.google.colaboratory.intrinsic+json": {
              "type": "dataframe",
              "summary": "{\n  \"name\": \"credit\",\n  \"rows\": 8,\n  \"fields\": [\n    {\n      \"column\": \"CLIENTNUM\",\n      \"properties\": {\n        \"dtype\": \"number\",\n        \"std\": 339512830.0563034,\n        \"min\": 10127.0,\n        \"max\": 828343083.0,\n        \"num_unique_values\": 8,\n        \"samples\": [\n          739177606.3336625,\n          717926358.0,\n          10127.0\n        ],\n        \"semantic_type\": \"\",\n        \"description\": \"\"\n      }\n    },\n    {\n      \"column\": \"Customer_Age\",\n      \"properties\": {\n        \"dtype\": \"number\",\n        \"std\": 3565.719870872902,\n        \"min\": 8.016814032549028,\n        \"max\": 10127.0,\n        \"num_unique_values\": 8,\n        \"samples\": [\n          46.32596030413745,\n          46.0,\n          10127.0\n        ],\n        \"semantic_type\": \"\",\n        \"description\": \"\"\n      }\n    },\n    {\n      \"column\": \"Dependent_count\",\n      \"properties\": {\n        \"dtype\": \"number\",\n        \"std\": 3579.6958070226437,\n        \"min\": 0.0,\n        \"max\": 10127.0,\n        \"num_unique_values\": 8,\n        \"samples\": [\n          2.3462032191172115,\n          2.0,\n          10127.0\n        ],\n        \"semantic_type\": \"\",\n        \"description\": \"\"\n      }\n    },\n    {\n      \"column\": \"Months_on_book\",\n      \"properties\": {\n        \"dtype\": \"number\",\n        \"std\": 3569.3599832978616,\n        \"min\": 7.986416330872062,\n        \"max\": 10127.0,\n        \"num_unique_values\": 8,\n        \"samples\": [\n          35.928409203120374,\n          36.0,\n          10127.0\n        ],\n        \"semantic_type\": \"\",\n        \"description\": \"\"\n      }\n    },\n    {\n      \"column\": \"Total_Relationship_Count\",\n      \"properties\": {\n        \"dtype\": \"number\",\n        \"std\": 3579.204849565556,\n        \"min\": 1.0,\n        \"max\": 10127.0,\n        \"num_unique_values\": 8,\n        \"samples\": [\n          3.8125802310654686,\n          4.0,\n          10127.0\n        ],\n        \"semantic_type\": \"\",\n        \"description\": \"\"\n      }\n    },\n    {\n      \"column\": \"Months_Inactive_12_mon\",\n      \"properties\": {\n        \"dtype\": \"number\",\n        \"std\": 3579.6097215744835,\n        \"min\": 0.0,\n        \"max\": 10127.0,\n        \"num_unique_values\": 7,\n        \"samples\": [\n          10127.0,\n          2.3411671768539546,\n          3.0\n        ],\n        \"semantic_type\": \"\",\n        \"description\": \"\"\n      }\n    },\n    {\n      \"column\": \"Contacts_Count_12_mon\",\n      \"properties\": {\n        \"dtype\": \"number\",\n        \"std\": 3579.5991227316104,\n        \"min\": 0.0,\n        \"max\": 10127.0,\n        \"num_unique_values\": 7,\n        \"samples\": [\n          10127.0,\n          2.4553174681544387,\n          3.0\n        ],\n        \"semantic_type\": \"\",\n        \"description\": \"\"\n      }\n    },\n    {\n      \"column\": \"Credit_Limit\",\n      \"properties\": {\n        \"dtype\": \"number\",\n        \"std\": 10439.274058388912,\n        \"min\": 1438.3,\n        \"max\": 34516.0,\n        \"num_unique_values\": 8,\n        \"samples\": [\n          8631.953698034955,\n          4549.0,\n          10127.0\n        ],\n        \"semantic_type\": \"\",\n        \"description\": \"\"\n      }\n    },\n    {\n      \"column\": \"Total_Revolving_Bal\",\n      \"properties\": {\n        \"dtype\": \"number\",\n        \"std\": 3276.8377072771545,\n        \"min\": 0.0,\n        \"max\": 10127.0,\n        \"num_unique_values\": 8,\n        \"samples\": [\n          1162.8140614199665,\n          1276.0,\n          10127.0\n        ],\n        \"semantic_type\": \"\",\n        \"description\": \"\"\n      }\n    },\n    {\n      \"column\": \"Avg_Open_To_Buy\",\n      \"properties\": {\n        \"dtype\": \"number\",\n        \"std\": 10849.334071476527,\n        \"min\": 3.0,\n        \"max\": 34516.0,\n        \"num_unique_values\": 8,\n        \"samples\": [\n          7469.139636614989,\n          3474.0,\n          10127.0\n        ],\n        \"semantic_type\": \"\",\n        \"description\": \"\"\n      }\n    },\n    {\n      \"column\": \"Total_Amt_Chng_Q4_Q1\",\n      \"properties\": {\n        \"dtype\": \"number\",\n        \"std\": 3580.1018796881535,\n        \"min\": 0.0,\n        \"max\": 10127.0,\n        \"num_unique_values\": 8,\n        \"samples\": [\n          0.7599406536980349,\n          0.736,\n          10127.0\n        ],\n        \"semantic_type\": \"\",\n        \"description\": \"\"\n      }\n    },\n    {\n      \"column\": \"Total_Trans_Amt\",\n      \"properties\": {\n        \"dtype\": \"number\",\n        \"std\": 5770.786816057116,\n        \"min\": 510.0,\n        \"max\": 18484.0,\n        \"num_unique_values\": 8,\n        \"samples\": [\n          4404.086303939963,\n          3899.0,\n          10127.0\n        ],\n        \"semantic_type\": \"\",\n        \"description\": \"\"\n      }\n    },\n    {\n      \"column\": \"Total_Trans_Ct\",\n      \"properties\": {\n        \"dtype\": \"number\",\n        \"std\": 3558.916913530285,\n        \"min\": 10.0,\n        \"max\": 10127.0,\n        \"num_unique_values\": 8,\n        \"samples\": [\n          64.85869457884863,\n          67.0,\n          10127.0\n        ],\n        \"semantic_type\": \"\",\n        \"description\": \"\"\n      }\n    },\n    {\n      \"column\": \"Total_Ct_Chng_Q4_Q1\",\n      \"properties\": {\n        \"dtype\": \"number\",\n        \"std\": 3580.0936222607697,\n        \"min\": 0.0,\n        \"max\": 10127.0,\n        \"num_unique_values\": 8,\n        \"samples\": [\n          0.7122223758269972,\n          0.702,\n          10127.0\n        ],\n        \"semantic_type\": \"\",\n        \"description\": \"\"\n      }\n    },\n    {\n      \"column\": \"Avg_Utilization_Ratio\",\n      \"properties\": {\n        \"dtype\": \"number\",\n        \"std\": 3580.3214784829747,\n        \"min\": 0.0,\n        \"max\": 10127.0,\n        \"num_unique_values\": 8,\n        \"samples\": [\n          0.2748935518909845,\n          0.176,\n          10127.0\n        ],\n        \"semantic_type\": \"\",\n        \"description\": \"\"\n      }\n    }\n  ]\n}"
            }
          },
          "metadata": {},
          "execution_count": 7
        }
      ]
    },
    {
      "cell_type": "code",
      "source": [
        "credit.info()"
      ],
      "metadata": {
        "execution": {
          "iopub.status.busy": "2023-05-03T15:34:07.967757Z",
          "iopub.execute_input": "2023-05-03T15:34:07.968179Z",
          "iopub.status.idle": "2023-05-03T15:34:07.987039Z",
          "shell.execute_reply.started": "2023-05-03T15:34:07.96812Z",
          "shell.execute_reply": "2023-05-03T15:34:07.986272Z"
        },
        "trusted": true,
        "id": "1PWWxPjjOVdh",
        "colab": {
          "base_uri": "https://localhost:8080/"
        },
        "outputId": "aefc6734-d562-48df-fa47-2b9b737a5f29"
      },
      "execution_count": 8,
      "outputs": [
        {
          "output_type": "stream",
          "name": "stdout",
          "text": [
            "<class 'pandas.core.frame.DataFrame'>\n",
            "RangeIndex: 10127 entries, 0 to 10126\n",
            "Data columns (total 21 columns):\n",
            " #   Column                    Non-Null Count  Dtype  \n",
            "---  ------                    --------------  -----  \n",
            " 0   CLIENTNUM                 10127 non-null  int64  \n",
            " 1   Attrition_Flag            10127 non-null  object \n",
            " 2   Customer_Age              10127 non-null  int64  \n",
            " 3   Gender                    10127 non-null  object \n",
            " 4   Dependent_count           10127 non-null  int64  \n",
            " 5   Education_Level           10127 non-null  object \n",
            " 6   Marital_Status            10127 non-null  object \n",
            " 7   Income_Category           10127 non-null  object \n",
            " 8   Card_Category             10127 non-null  object \n",
            " 9   Months_on_book            10127 non-null  int64  \n",
            " 10  Total_Relationship_Count  10127 non-null  int64  \n",
            " 11  Months_Inactive_12_mon    10127 non-null  int64  \n",
            " 12  Contacts_Count_12_mon     10127 non-null  int64  \n",
            " 13  Credit_Limit              10127 non-null  float64\n",
            " 14  Total_Revolving_Bal       10127 non-null  int64  \n",
            " 15  Avg_Open_To_Buy           10127 non-null  float64\n",
            " 16  Total_Amt_Chng_Q4_Q1      10127 non-null  float64\n",
            " 17  Total_Trans_Amt           10127 non-null  int64  \n",
            " 18  Total_Trans_Ct            10127 non-null  int64  \n",
            " 19  Total_Ct_Chng_Q4_Q1       10127 non-null  float64\n",
            " 20  Avg_Utilization_Ratio     10127 non-null  float64\n",
            "dtypes: float64(5), int64(10), object(6)\n",
            "memory usage: 1.6+ MB\n"
          ]
        }
      ]
    },
    {
      "cell_type": "code",
      "source": [
        "credit.nunique()"
      ],
      "metadata": {
        "execution": {
          "iopub.status.busy": "2023-05-03T15:34:07.988229Z",
          "iopub.execute_input": "2023-05-03T15:34:07.988706Z",
          "iopub.status.idle": "2023-05-03T15:34:08.008115Z",
          "shell.execute_reply.started": "2023-05-03T15:34:07.988678Z",
          "shell.execute_reply": "2023-05-03T15:34:08.006916Z"
        },
        "trusted": true,
        "id": "eHD998Z0OVdi",
        "colab": {
          "base_uri": "https://localhost:8080/"
        },
        "outputId": "eb65ac6f-1f3d-4ba6-d807-79a6d7621bb2"
      },
      "execution_count": 9,
      "outputs": [
        {
          "output_type": "execute_result",
          "data": {
            "text/plain": [
              "CLIENTNUM                   10127\n",
              "Attrition_Flag                  2\n",
              "Customer_Age                   45\n",
              "Gender                          2\n",
              "Dependent_count                 6\n",
              "Education_Level                 7\n",
              "Marital_Status                  4\n",
              "Income_Category                 6\n",
              "Card_Category                   4\n",
              "Months_on_book                 44\n",
              "Total_Relationship_Count        6\n",
              "Months_Inactive_12_mon          7\n",
              "Contacts_Count_12_mon           7\n",
              "Credit_Limit                 6205\n",
              "Total_Revolving_Bal          1974\n",
              "Avg_Open_To_Buy              6813\n",
              "Total_Amt_Chng_Q4_Q1         1158\n",
              "Total_Trans_Amt              5033\n",
              "Total_Trans_Ct                126\n",
              "Total_Ct_Chng_Q4_Q1           830\n",
              "Avg_Utilization_Ratio         964\n",
              "dtype: int64"
            ]
          },
          "metadata": {},
          "execution_count": 9
        }
      ]
    },
    {
      "cell_type": "markdown",
      "source": [
        "# **<span style=\"color:#d62828;\">2. Categorical Data</span>**"
      ],
      "metadata": {
        "id": "tlgjqJ1POVdi"
      }
    },
    {
      "cell_type": "code",
      "source": [
        "categorical_indexes = list(range(1, 9))\n",
        "credit.iloc[:,categorical_indexes] = credit.iloc[:,categorical_indexes].astype('category')"
      ],
      "metadata": {
        "execution": {
          "iopub.status.busy": "2023-05-03T16:10:46.753817Z",
          "iopub.execute_input": "2023-05-03T16:10:46.755733Z",
          "iopub.status.idle": "2023-05-03T16:10:46.786651Z",
          "shell.execute_reply.started": "2023-05-03T16:10:46.755681Z",
          "shell.execute_reply": "2023-05-03T16:10:46.784759Z"
        },
        "trusted": true,
        "id": "g0L3lfQEOVdj",
        "colab": {
          "base_uri": "https://localhost:8080/"
        },
        "outputId": "e81dc933-4cef-4c76-8a68-734036c1a7c3"
      },
      "execution_count": 10,
      "outputs": [
        {
          "output_type": "stream",
          "name": "stderr",
          "text": [
            "<ipython-input-10-4cfbb566ed69>:2: SettingWithCopyWarning: \n",
            "A value is trying to be set on a copy of a slice from a DataFrame.\n",
            "Try using .loc[row_indexer,col_indexer] = value instead\n",
            "\n",
            "See the caveats in the documentation: https://pandas.pydata.org/pandas-docs/stable/user_guide/indexing.html#returning-a-view-versus-a-copy\n",
            "  credit.iloc[:,categorical_indexes] = credit.iloc[:,categorical_indexes].astype('category')\n",
            "<ipython-input-10-4cfbb566ed69>:2: DeprecationWarning: In a future version, `df.iloc[:, i] = newvals` will attempt to set the values inplace instead of always setting a new array. To retain the old behavior, use either `df[df.columns[i]] = newvals` or, if columns are non-unique, `df.isetitem(i, newvals)`\n",
            "  credit.iloc[:,categorical_indexes] = credit.iloc[:,categorical_indexes].astype('category')\n"
          ]
        }
      ]
    },
    {
      "cell_type": "code",
      "source": [
        "credit = credit.loc[:, ~credit.columns.isin([3, 5, 6, 7, 8])]"
      ],
      "metadata": {
        "execution": {
          "iopub.status.busy": "2023-05-03T16:10:48.474064Z",
          "iopub.execute_input": "2023-05-03T16:10:48.474626Z",
          "iopub.status.idle": "2023-05-03T16:10:48.483405Z",
          "shell.execute_reply.started": "2023-05-03T16:10:48.474586Z",
          "shell.execute_reply": "2023-05-03T16:10:48.481645Z"
        },
        "trusted": true,
        "id": "ystrB13pOVdj"
      },
      "execution_count": 11,
      "outputs": []
    },
    {
      "cell_type": "code",
      "source": [
        "credit.info()"
      ],
      "metadata": {
        "execution": {
          "iopub.status.busy": "2023-05-03T15:34:08.046546Z",
          "iopub.execute_input": "2023-05-03T15:34:08.046828Z",
          "iopub.status.idle": "2023-05-03T15:34:08.067119Z",
          "shell.execute_reply.started": "2023-05-03T15:34:08.046801Z",
          "shell.execute_reply": "2023-05-03T15:34:08.066183Z"
        },
        "trusted": true,
        "id": "B6QAQIxTOVdj",
        "colab": {
          "base_uri": "https://localhost:8080/"
        },
        "outputId": "802b82a2-6ffe-46ef-e16c-249b99b6880b"
      },
      "execution_count": 12,
      "outputs": [
        {
          "output_type": "stream",
          "name": "stdout",
          "text": [
            "<class 'pandas.core.frame.DataFrame'>\n",
            "RangeIndex: 10127 entries, 0 to 10126\n",
            "Data columns (total 21 columns):\n",
            " #   Column                    Non-Null Count  Dtype   \n",
            "---  ------                    --------------  -----   \n",
            " 0   CLIENTNUM                 10127 non-null  int64   \n",
            " 1   Attrition_Flag            10127 non-null  category\n",
            " 2   Customer_Age              10127 non-null  category\n",
            " 3   Gender                    10127 non-null  category\n",
            " 4   Dependent_count           10127 non-null  category\n",
            " 5   Education_Level           10127 non-null  category\n",
            " 6   Marital_Status            10127 non-null  category\n",
            " 7   Income_Category           10127 non-null  category\n",
            " 8   Card_Category             10127 non-null  category\n",
            " 9   Months_on_book            10127 non-null  int64   \n",
            " 10  Total_Relationship_Count  10127 non-null  int64   \n",
            " 11  Months_Inactive_12_mon    10127 non-null  int64   \n",
            " 12  Contacts_Count_12_mon     10127 non-null  int64   \n",
            " 13  Credit_Limit              10127 non-null  float64 \n",
            " 14  Total_Revolving_Bal       10127 non-null  int64   \n",
            " 15  Avg_Open_To_Buy           10127 non-null  float64 \n",
            " 16  Total_Amt_Chng_Q4_Q1      10127 non-null  float64 \n",
            " 17  Total_Trans_Amt           10127 non-null  int64   \n",
            " 18  Total_Trans_Ct            10127 non-null  int64   \n",
            " 19  Total_Ct_Chng_Q4_Q1       10127 non-null  float64 \n",
            " 20  Avg_Utilization_Ratio     10127 non-null  float64 \n",
            "dtypes: category(8), float64(5), int64(8)\n",
            "memory usage: 1.1 MB\n"
          ]
        }
      ]
    },
    {
      "cell_type": "code",
      "source": [
        "credit.isnull().sum()"
      ],
      "metadata": {
        "execution": {
          "iopub.status.busy": "2023-05-03T15:34:08.068332Z",
          "iopub.execute_input": "2023-05-03T15:34:08.068637Z",
          "iopub.status.idle": "2023-05-03T15:34:08.078318Z",
          "shell.execute_reply.started": "2023-05-03T15:34:08.06861Z",
          "shell.execute_reply": "2023-05-03T15:34:08.07707Z"
        },
        "trusted": true,
        "id": "JyDM0eaROVdj",
        "colab": {
          "base_uri": "https://localhost:8080/"
        },
        "outputId": "0fac6205-d22d-4d85-d365-80b5a9cf5578"
      },
      "execution_count": 13,
      "outputs": [
        {
          "output_type": "execute_result",
          "data": {
            "text/plain": [
              "CLIENTNUM                   0\n",
              "Attrition_Flag              0\n",
              "Customer_Age                0\n",
              "Gender                      0\n",
              "Dependent_count             0\n",
              "Education_Level             0\n",
              "Marital_Status              0\n",
              "Income_Category             0\n",
              "Card_Category               0\n",
              "Months_on_book              0\n",
              "Total_Relationship_Count    0\n",
              "Months_Inactive_12_mon      0\n",
              "Contacts_Count_12_mon       0\n",
              "Credit_Limit                0\n",
              "Total_Revolving_Bal         0\n",
              "Avg_Open_To_Buy             0\n",
              "Total_Amt_Chng_Q4_Q1        0\n",
              "Total_Trans_Amt             0\n",
              "Total_Trans_Ct              0\n",
              "Total_Ct_Chng_Q4_Q1         0\n",
              "Avg_Utilization_Ratio       0\n",
              "dtype: int64"
            ]
          },
          "metadata": {},
          "execution_count": 13
        }
      ]
    },
    {
      "cell_type": "markdown",
      "source": [
        "No NULL values or missing values."
      ],
      "metadata": {
        "id": "qPGeflGJOVdk"
      }
    },
    {
      "cell_type": "markdown",
      "source": [
        "# **<span style=\"color:#d62828;\">3. Data Visualization</span>**\n",
        "Using Python libraries like pyWaffle and Seaborn"
      ],
      "metadata": {
        "id": "Ecs8ldTBOVdk"
      }
    },
    {
      "cell_type": "markdown",
      "source": [
        "# **Customer Attirbution**"
      ],
      "metadata": {
        "id": "p6P_kHhQOVdk"
      }
    },
    {
      "cell_type": "code",
      "source": [
        "plt.pie(credit.Attrition_Flag.value_counts(), labels = [\"Existing Customer\", \"Attrited Customer\"], colors = sns.color_palette(\"Blues\"),\n",
        "        autopct = '%1.1f%%')\n",
        "plt.title(\"Customer Attrition\")\n",
        "pass"
      ],
      "metadata": {
        "execution": {
          "iopub.status.busy": "2023-05-03T15:34:08.079653Z",
          "iopub.execute_input": "2023-05-03T15:34:08.080919Z",
          "iopub.status.idle": "2023-05-03T15:34:08.2302Z",
          "shell.execute_reply.started": "2023-05-03T15:34:08.080875Z",
          "shell.execute_reply": "2023-05-03T15:34:08.228927Z"
        },
        "trusted": true,
        "id": "zdA-WoesOVdk",
        "colab": {
          "base_uri": "https://localhost:8080/",
          "height": 428
        },
        "outputId": "f4c6a15a-5db1-4535-d833-b5b7fbc29258"
      },
      "execution_count": 14,
      "outputs": [
        {
          "output_type": "display_data",
          "data": {
            "text/plain": [
              "<Figure size 640x480 with 1 Axes>"
            ],
            "image/png": "[encoded data removed]"
          },
          "metadata": {}
        }
      ]
    },
    {
      "cell_type": "markdown",
      "source": [
        "# **Customer Age**"
      ],
      "metadata": {
        "id": "0ETrlGU2OVdl"
      }
    },
    {
      "cell_type": "code",
      "source": [
        "fig, ax = plt.subplots(figsize =(10, 7))\n",
        "ax.hist(credit.Customer_Age, bins =15, color ='#003049')\n",
        "\n",
        "plt.grid()\n",
        "plt.title(\"Customer Age\", weight=\"bold\", size=\"22\", color='#d62828')\n",
        "plt.ylabel(\"Customers\", size=\"18\", color='#fcbf49')\n",
        "plt.xlabel(\"Age Group\", size=\"18\", color='#fcbf49')"
      ],
      "metadata": {
        "execution": {
          "iopub.status.busy": "2023-05-03T16:09:06.885782Z",
          "iopub.execute_input": "2023-05-03T16:09:06.886567Z",
          "iopub.status.idle": "2023-05-03T16:09:07.148325Z",
          "shell.execute_reply.started": "2023-05-03T16:09:06.886521Z",
          "shell.execute_reply": "2023-05-03T16:09:07.147259Z"
        },
        "trusted": true,
        "id": "xOnibQ1sOVdl",
        "colab": {
          "base_uri": "https://localhost:8080/",
          "height": 677
        },
        "outputId": "69620bc7-31da-41e2-d3fd-f74f44e8c0d3"
      },
      "execution_count": 15,
      "outputs": [
        {
          "output_type": "execute_result",
          "data": {
            "text/plain": [
              "Text(0.5, 0, 'Age Group')"
            ]
          },
          "metadata": {},
          "execution_count": 15
        },
        {
          "output_type": "display_data",
          "data": {
            "text/plain": [
              "<Figure size 1000x700 with 1 Axes>"
            ],
            "image/png": "[encoded data removed]"
          },
          "metadata": {}
        }
      ]
    },
    {
      "cell_type": "markdown",
      "source": [
        "# **Gender Distribution**"
      ],
      "metadata": {
        "id": "pBKw7pGMOVdl"
      }
    },
    {
      "cell_type": "code",
      "source": [
        "plt.pie(credit.Gender.value_counts(), labels = [\"Male\", \"Female\"], colors = sns.color_palette(\"Blues\"),\n",
        "        autopct = '%1.1f%%')\n",
        "plt.title(\"Gender Distribution\")\n",
        "pass"
      ],
      "metadata": {
        "execution": {
          "iopub.status.busy": "2023-05-03T15:34:08.497712Z",
          "iopub.execute_input": "2023-05-03T15:34:08.498785Z",
          "iopub.status.idle": "2023-05-03T15:34:08.582714Z",
          "shell.execute_reply.started": "2023-05-03T15:34:08.498743Z",
          "shell.execute_reply": "2023-05-03T15:34:08.58133Z"
        },
        "trusted": true,
        "id": "DCml20VrOVdl",
        "colab": {
          "base_uri": "https://localhost:8080/",
          "height": 428
        },
        "outputId": "f301bb6a-195e-4401-c3b6-75ad89cfe0b0"
      },
      "execution_count": 16,
      "outputs": [
        {
          "output_type": "display_data",
          "data": {
            "text/plain": [
              "<Figure size 640x480 with 1 Axes>"
            ],
            "image/png": "[encoded data removed]"
          },
          "metadata": {}
        }
      ]
    },
    {
      "cell_type": "markdown",
      "source": [
        "# **Number of Dependents**"
      ],
      "metadata": {
        "id": "FQs_dKNuOVdm"
      }
    },
    {
      "cell_type": "code",
      "source": [
        "colors = ['#1f77b4', '#ff7f0e', '#2ca02c', '#d62728', '#9467bd',\n",
        "          '#8c564b']\n",
        "\n",
        "plt.bar(credit.Dependent_count.unique(), credit.Dependent_count.value_counts(), color=colors)\n",
        "\n",
        "plt.title(\"Dependents per Customer\", weight=\"bold\", size=\"22\", color='#d62828')\n",
        "plt.ylabel(\"Number of Customers\", size=\"18\", color='#fcbf49')\n",
        "plt.xlabel(\"Dependents\", size=\"18\", color='#fcbf49')"
      ],
      "metadata": {
        "execution": {
          "iopub.status.busy": "2023-05-03T16:12:33.092268Z",
          "iopub.execute_input": "2023-05-03T16:12:33.093165Z",
          "iopub.status.idle": "2023-05-03T16:12:33.295882Z",
          "shell.execute_reply.started": "2023-05-03T16:12:33.093107Z",
          "shell.execute_reply": "2023-05-03T16:12:33.294631Z"
        },
        "trusted": true,
        "id": "TUBZJq0-OVdm",
        "colab": {
          "base_uri": "https://localhost:8080/",
          "height": 508
        },
        "outputId": "2477ff5b-7c32-4e41-c5d0-46fe04fba20d"
      },
      "execution_count": 17,
      "outputs": [
        {
          "output_type": "execute_result",
          "data": {
            "text/plain": [
              "Text(0.5, 0, 'Dependents')"
            ]
          },
          "metadata": {},
          "execution_count": 17
        },
        {
          "output_type": "display_data",
          "data": {
            "text/plain": [
              "<Figure size 640x480 with 1 Axes>"
            ],
            "image/png": "[encoded data removed]"
          },
          "metadata": {}
        }
      ]
    },
    {
      "cell_type": "markdown",
      "source": [
        "# **Education Level**"
      ],
      "metadata": {
        "id": "wJ6TD3qfOVdn"
      }
    },
    {
      "cell_type": "markdown",
      "source": [
        "We are using a Python library called PyWaffle for making these type of vizualisations."
      ],
      "metadata": {
        "id": "Kjqf3pTJOVdn"
      }
    },
    {
      "cell_type": "code",
      "source": [
        "fig = plt.figure(FigureClass=Waffle, figsize=(10,10), values=credit.Education_Level.value_counts()/100, rows=5,\n",
        "                 labels=list(credit.Education_Level.unique()),\n",
        "                 legend={'loc': 'upper left', 'bbox_to_anchor': (1, 1)})\n",
        "\n",
        "plt.title('Education Level of Credit Card Customers', fontsize=25)\n",
        "plt.show()"
      ],
      "metadata": {
        "execution": {
          "iopub.status.busy": "2023-05-03T16:12:36.536935Z",
          "iopub.execute_input": "2023-05-03T16:12:36.537509Z",
          "iopub.status.idle": "2023-05-03T16:12:36.876921Z",
          "shell.execute_reply.started": "2023-05-03T16:12:36.537469Z",
          "shell.execute_reply": "2023-05-03T16:12:36.875657Z"
        },
        "trusted": true,
        "id": "J9bgbSZcOVdn",
        "colab": {
          "base_uri": "https://localhost:8080/",
          "height": 261
        },
        "outputId": "e2a72b64-cb0e-4041-de53-758fe1a6767f"
      },
      "execution_count": 18,
      "outputs": [
        {
          "output_type": "display_data",
          "data": {
            "text/plain": [
              "<Waffle size 1000x1000 with 1 Axes>"
            ],
            "image/png": "[encoded data removed]"
          },
          "metadata": {}
        }
      ]
    },
    {
      "cell_type": "markdown",
      "source": [
        "# **Marital Status**"
      ],
      "metadata": {
        "id": "rxzwNwdcOVdn"
      }
    },
    {
      "cell_type": "code",
      "source": [
        "fig = plt.figure(FigureClass=Waffle, figsize=(10,10), values=credit.Marital_Status.value_counts()/100, rows=5,\n",
        "                 labels=list(credit.Marital_Status.unique()),\n",
        "                 legend={'loc': 'upper left', 'bbox_to_anchor': (1, 1)})\n",
        "\n",
        "plt.title('Marital Status of Credit Card Customers', fontsize=25)\n",
        "plt.show()"
      ],
      "metadata": {
        "execution": {
          "iopub.status.busy": "2023-05-03T15:34:09.08988Z",
          "iopub.execute_input": "2023-05-03T15:34:09.090214Z",
          "iopub.status.idle": "2023-05-03T15:34:09.369554Z",
          "shell.execute_reply.started": "2023-05-03T15:34:09.090184Z",
          "shell.execute_reply": "2023-05-03T15:34:09.367201Z"
        },
        "trusted": true,
        "id": "W_6vX9SdOVdo",
        "colab": {
          "base_uri": "https://localhost:8080/",
          "height": 279
        },
        "outputId": "d4bb9f23-d364-42ac-d2f4-4473568132ae"
      },
      "execution_count": 19,
      "outputs": [
        {
          "output_type": "display_data",
          "data": {
            "text/plain": [
              "<Waffle size 1000x1000 with 1 Axes>"
            ],
            "image/png": "[encoded data removed]"
          },
          "metadata": {}
        }
      ]
    },
    {
      "cell_type": "markdown",
      "source": [
        "# **Income Status**"
      ],
      "metadata": {
        "id": "hP9ZrUCAOVdo"
      }
    },
    {
      "cell_type": "code",
      "source": [
        "fig = plt.figure(FigureClass=Waffle, figsize=(10,10), values=credit.Income_Category.value_counts()/100, rows=5,\n",
        "                 labels=list(credit.Income_Category.unique()),\n",
        "                 legend={'loc': 'upper left', 'bbox_to_anchor': (1, 1)})\n",
        "\n",
        "plt.title('Income Status of Credit Card Customers', fontsize=25)\n",
        "plt.show()"
      ],
      "metadata": {
        "execution": {
          "iopub.status.busy": "2023-05-03T15:34:09.370718Z",
          "iopub.execute_input": "2023-05-03T15:34:09.37103Z",
          "iopub.status.idle": "2023-05-03T15:34:09.90108Z",
          "shell.execute_reply.started": "2023-05-03T15:34:09.371002Z",
          "shell.execute_reply": "2023-05-03T15:34:09.899909Z"
        },
        "trusted": true,
        "id": "9fWOdYQlOVdo",
        "colab": {
          "base_uri": "https://localhost:8080/",
          "height": 259
        },
        "outputId": "60f74ac5-4314-43e7-dfec-8345fc4de83b"
      },
      "execution_count": 20,
      "outputs": [
        {
          "output_type": "display_data",
          "data": {
            "text/plain": [
              "<Waffle size 1000x1000 with 1 Axes>"
            ],
            "image/png": "[encoded data removed]"
          },
          "metadata": {}
        }
      ]
    },
    {
      "cell_type": "markdown",
      "source": [
        "# **Types of Credit Cards**"
      ],
      "metadata": {
        "id": "eu6rnraIOVdw"
      }
    },
    {
      "cell_type": "code",
      "source": [
        "fig = plt.figure(FigureClass=Waffle, figsize=(10,10), values=credit.Card_Category.value_counts()/100, rows=5,\n",
        "                 labels=list(credit.Card_Category.unique()),\n",
        "                 legend={'loc': 'upper left', 'bbox_to_anchor': (1, 1)})\n",
        "\n",
        "plt.title('Type of Credit Card of Customers', fontsize=25)\n",
        "plt.show()"
      ],
      "metadata": {
        "execution": {
          "iopub.status.busy": "2023-05-03T15:34:09.902868Z",
          "iopub.execute_input": "2023-05-03T15:34:09.903334Z",
          "iopub.status.idle": "2023-05-03T15:34:10.18875Z",
          "shell.execute_reply.started": "2023-05-03T15:34:09.90329Z",
          "shell.execute_reply": "2023-05-03T15:34:10.187742Z"
        },
        "trusted": true,
        "id": "3pt9aIuIOVdw",
        "colab": {
          "base_uri": "https://localhost:8080/",
          "height": 269
        },
        "outputId": "ce6bc87c-16d7-461a-92cd-41a574a14030"
      },
      "execution_count": 21,
      "outputs": [
        {
          "output_type": "display_data",
          "data": {
            "text/plain": [
              "<Waffle size 1000x1000 with 1 Axes>"
            ],
            "image/png": "[encoded data removed]"
          },
          "metadata": {}
        }
      ]
    },
    {
      "cell_type": "markdown",
      "source": [
        "# **Customers on Book**"
      ],
      "metadata": {
        "id": "rDBVMmIgOVdx"
      }
    },
    {
      "cell_type": "code",
      "source": [
        "fig, ax = plt.subplots(figsize =(10, 7))\n",
        "ax.hist(credit.Months_on_book, bins =15, color ='lightblue')\n",
        "\n",
        "plt.grid()\n",
        "plt.title(\"Months on Book\", weight=\"bold\", size=\"22\", color='#FB2576')\n",
        "plt.ylabel(\"Customers\", size=\"18\", color='#FB2576')\n",
        "plt.xlabel(\"Months\", size=\"18\", color='#FB2576')"
      ],
      "metadata": {
        "execution": {
          "iopub.status.busy": "2023-05-03T15:34:10.189997Z",
          "iopub.execute_input": "2023-05-03T15:34:10.190605Z",
          "iopub.status.idle": "2023-05-03T15:34:10.532312Z",
          "shell.execute_reply.started": "2023-05-03T15:34:10.190573Z",
          "shell.execute_reply": "2023-05-03T15:34:10.531211Z"
        },
        "trusted": true,
        "id": "-73Uxtl4OVdx",
        "colab": {
          "base_uri": "https://localhost:8080/",
          "height": 677
        },
        "outputId": "f1beeb6a-1955-4922-8126-238228d46bdc"
      },
      "execution_count": 22,
      "outputs": [
        {
          "output_type": "execute_result",
          "data": {
            "text/plain": [
              "Text(0.5, 0, 'Months')"
            ]
          },
          "metadata": {},
          "execution_count": 22
        },
        {
          "output_type": "display_data",
          "data": {
            "text/plain": [
              "<Figure size 1000x700 with 1 Axes>"
            ],
            "image/png": "[encoded data removed]"
          },
          "metadata": {}
        }
      ]
    },
    {
      "cell_type": "code",
      "source": [
        "fig = plt.figure(FigureClass=Waffle, figsize=(10,10), values=credit.Total_Relationship_Count.value_counts()/100, rows=5,\n",
        "                 labels=list(credit.Total_Relationship_Count.unique()),\n",
        "                 legend={'loc': 'upper left', 'bbox_to_anchor': (1, 1)})\n",
        "\n",
        "plt.title('Total Relationship Count', fontsize=25)\n",
        "plt.show()"
      ],
      "metadata": {
        "execution": {
          "iopub.status.busy": "2023-05-03T15:34:10.533738Z",
          "iopub.execute_input": "2023-05-03T15:34:10.534526Z",
          "iopub.status.idle": "2023-05-03T15:34:10.779035Z",
          "shell.execute_reply.started": "2023-05-03T15:34:10.534492Z",
          "shell.execute_reply": "2023-05-03T15:34:10.777908Z"
        },
        "trusted": true,
        "id": "VnOEr-bXOVdx",
        "colab": {
          "base_uri": "https://localhost:8080/",
          "height": 282
        },
        "outputId": "f6786906-fe21-4334-be9b-e10087375c02"
      },
      "execution_count": 23,
      "outputs": [
        {
          "output_type": "display_data",
          "data": {
            "text/plain": [
              "<Waffle size 1000x1000 with 1 Axes>"
            ],
            "image/png": "[encoded data removed]"
          },
          "metadata": {}
        }
      ]
    },
    {
      "cell_type": "code",
      "source": [
        "fig = plt.figure(FigureClass=Waffle, figsize=(10,10), values=credit.Months_Inactive_12_mon.value_counts()/100, rows=5,\n",
        "                 labels=list(credit.Months_Inactive_12_mon.unique()),\n",
        "                 legend={'loc': 'upper left', 'bbox_to_anchor': (1, 1)})\n",
        "\n",
        "plt.title('Months Inactive', fontsize=25)\n",
        "plt.show()"
      ],
      "metadata": {
        "execution": {
          "iopub.status.busy": "2023-05-03T15:34:10.780728Z",
          "iopub.execute_input": "2023-05-03T15:34:10.782454Z",
          "iopub.status.idle": "2023-05-03T15:34:11.006465Z",
          "shell.execute_reply.started": "2023-05-03T15:34:10.782409Z",
          "shell.execute_reply": "2023-05-03T15:34:11.005439Z"
        },
        "trusted": true,
        "id": "e1FoylnIOVdy",
        "colab": {
          "base_uri": "https://localhost:8080/",
          "height": 292
        },
        "outputId": "93fd1586-e0cf-4ef7-b019-9c16d5bb966e"
      },
      "execution_count": 24,
      "outputs": [
        {
          "output_type": "display_data",
          "data": {
            "text/plain": [
              "<Waffle size 1000x1000 with 1 Axes>"
            ],
            "image/png": "[encoded data removed]"
          },
          "metadata": {}
        }
      ]
    },
    {
      "cell_type": "code",
      "source": [
        "fig = plt.figure(FigureClass=Waffle, figsize=(10,10), values=credit.Contacts_Count_12_mon.value_counts()/100, rows=5,\n",
        "                 labels=list(credit.Contacts_Count_12_mon.unique()),\n",
        "                 legend={'loc': 'upper left', 'bbox_to_anchor': (1, 1)})\n",
        "\n",
        "plt.title('Contacts Count', fontsize=25)\n",
        "plt.show()"
      ],
      "metadata": {
        "execution": {
          "iopub.status.busy": "2023-05-03T15:34:11.008383Z",
          "iopub.execute_input": "2023-05-03T15:34:11.008804Z",
          "iopub.status.idle": "2023-05-03T15:34:11.2317Z",
          "shell.execute_reply.started": "2023-05-03T15:34:11.008764Z",
          "shell.execute_reply": "2023-05-03T15:34:11.230493Z"
        },
        "trusted": true,
        "id": "MgepCYIzOVdy",
        "colab": {
          "base_uri": "https://localhost:8080/",
          "height": 282
        },
        "outputId": "1c74463f-70db-4c97-ab18-b895284ead24"
      },
      "execution_count": 25,
      "outputs": [
        {
          "output_type": "display_data",
          "data": {
            "text/plain": [
              "<Waffle size 1000x1000 with 1 Axes>"
            ],
            "image/png": "[encoded data removed]"
          },
          "metadata": {}
        }
      ]
    },
    {
      "cell_type": "markdown",
      "source": [
        "<span style=\"color:#f77f00;\"><font size=\"+2\">Some Observations:</font></span>\n",
        "\n",
        "1. The percentage of attrited customers is much less than the existing customers.\n",
        "2. Majority of the customers who have/use a credit card lie in the age group of 40-50 years.\n",
        "3. Slightly higher number of male as opposed to female credit card owners.\n",
        "4. Parameters like marriage, education level or even income don't have that much effect on the credit card            ownership.\n",
        "5. Most people prefer the basic type of credit card, while very few opt for gold or silver.\n",
        "6. Virtually, no one opts for Platinum credit card.\n",
        "7. There are a large number of people who have been using a credit card for 3+ years."
      ],
      "metadata": {
        "id": "6kCjcg9LOVdy"
      }
    },
    {
      "cell_type": "markdown",
      "source": [
        "# **<span style=\"color:#d62828;\">4. Non-Categorical Data</span>**"
      ],
      "metadata": {
        "id": "Wrql2LofOVdy"
      }
    },
    {
      "cell_type": "markdown",
      "source": [
        "**Coorelation Matrix**"
      ],
      "metadata": {
        "id": "plXUwCo2OVdz"
      }
    },
    {
      "cell_type": "code",
      "source": [
        "corr = credit.corr()\n",
        "\n",
        "corr.style.background_gradient(cmap='BuGn')"
      ],
      "metadata": {
        "execution": {
          "iopub.status.busy": "2023-05-03T15:34:11.234205Z",
          "iopub.execute_input": "2023-05-03T15:34:11.235191Z",
          "iopub.status.idle": "2023-05-03T15:34:11.336542Z",
          "shell.execute_reply.started": "2023-05-03T15:34:11.235154Z",
          "shell.execute_reply": "2023-05-03T15:34:11.335474Z"
        },
        "trusted": true,
        "id": "0pJZ8yHpOVdz",
        "colab": {
          "base_uri": "https://localhost:8080/",
          "height": 512
        },
        "outputId": "f312fb61-f2f2-49b4-92c9-5e1257674b40"
      },
      "execution_count": 26,
      "outputs": [
        {
          "output_type": "stream",
          "name": "stderr",
          "text": [
            "<ipython-input-26-567b5c305c11>:1: FutureWarning: The default value of numeric_only in DataFrame.corr is deprecated. In a future version, it will default to False. Select only valid columns or specify the value of numeric_only to silence this warning.\n",
            "  corr = credit.corr()\n"
          ]
        },
        {
          "output_type": "execute_result",
          "data": {
            "text/plain": [
              "<pandas.io.formats.style.Styler at 0x7a8ee2b23460>"
            ],
            "text/html": [
              "<style type=\"text/css\">\n",
              "#T_6292b_row0_col0, #T_6292b_row1_col1, #T_6292b_row2_col2, #T_6292b_row3_col3, #T_6292b_row4_col4, #T_6292b_row5_col5, #T_6292b_row5_col7, #T_6292b_row6_col6, #T_6292b_row7_col5, #T_6292b_row7_col7, #T_6292b_row8_col8, #T_6292b_row9_col9, #T_6292b_row10_col10, #T_6292b_row11_col11, #T_6292b_row12_col12 {\n",
              "  background-color: #00441b;\n",
              "  color: #f1f1f1;\n",
              "}\n",
              "#T_6292b_row0_col1, #T_6292b_row4_col9 {\n",
              "  background-color: #dbf2f2;\n",
              "  color: #000000;\n",
              "}\n",
              "#T_6292b_row0_col2 {\n",
              "  background-color: #c7eae3;\n",
              "  color: #000000;\n",
              "}\n",
              "#T_6292b_row0_col3, #T_6292b_row12_col1 {\n",
              "  background-color: #f1fafc;\n",
              "  color: #000000;\n",
              "}\n",
              "#T_6292b_row0_col4 {\n",
              "  background-color: #e3f4f7;\n",
              "  color: #000000;\n",
              "}\n",
              "#T_6292b_row0_col5, #T_6292b_row1_col5 {\n",
              "  background-color: #acdfd4;\n",
              "  color: #000000;\n",
              "}\n",
              "#T_6292b_row0_col6, #T_6292b_row3_col11, #T_6292b_row5_col1, #T_6292b_row7_col1, #T_6292b_row7_col8, #T_6292b_row10_col8, #T_6292b_row11_col4 {\n",
              "  background-color: #f0f9fb;\n",
              "  color: #000000;\n",
              "}\n",
              "#T_6292b_row0_col7, #T_6292b_row1_col7, #T_6292b_row6_col5, #T_6292b_row8_col7, #T_6292b_row10_col12 {\n",
              "  background-color: #a2dcce;\n",
              "  color: #000000;\n",
              "}\n",
              "#T_6292b_row0_col8, #T_6292b_row2_col6 {\n",
              "  background-color: #eef8fb;\n",
              "  color: #000000;\n",
              "}\n",
              "#T_6292b_row0_col9 {\n",
              "  background-color: #cdece7;\n",
              "  color: #000000;\n",
              "}\n",
              "#T_6292b_row0_col10, #T_6292b_row10_col11 {\n",
              "  background-color: #d8f0ef;\n",
              "  color: #000000;\n",
              "}\n",
              "#T_6292b_row0_col11, #T_6292b_row2_col8 {\n",
              "  background-color: #e9f7fa;\n",
              "  color: #000000;\n",
              "}\n",
              "#T_6292b_row0_col12 {\n",
              "  background-color: #a4dccf;\n",
              "  color: #000000;\n",
              "}\n",
              "#T_6292b_row1_col0, #T_6292b_row5_col4 {\n",
              "  background-color: #e0f3f5;\n",
              "  color: #000000;\n",
              "}\n",
              "#T_6292b_row1_col2, #T_6292b_row7_col10 {\n",
              "  background-color: #ccece6;\n",
              "  color: #000000;\n",
              "}\n",
              "#T_6292b_row1_col3, #T_6292b_row8_col4, #T_6292b_row9_col6 {\n",
              "  background-color: #e7f6f9;\n",
              "  color: #000000;\n",
              "}\n",
              "#T_6292b_row1_col4, #T_6292b_row2_col11 {\n",
              "  background-color: #e5f5f9;\n",
              "  color: #000000;\n",
              "}\n",
              "#T_6292b_row1_col6, #T_6292b_row5_col8, #T_6292b_row6_col1 {\n",
              "  background-color: #eff9fb;\n",
              "  color: #000000;\n",
              "}\n",
              "#T_6292b_row1_col8, #T_6292b_row2_col9, #T_6292b_row2_col10, #T_6292b_row4_col6, #T_6292b_row4_col11, #T_6292b_row6_col3, #T_6292b_row7_col12, #T_6292b_row8_col1, #T_6292b_row9_col0, #T_6292b_row9_col2, #T_6292b_row10_col1, #T_6292b_row10_col3, #T_6292b_row10_col4, #T_6292b_row11_col3, #T_6292b_row12_col5, #T_6292b_row12_col7 {\n",
              "  background-color: #f7fcfd;\n",
              "  color: #000000;\n",
              "}\n",
              "#T_6292b_row1_col9, #T_6292b_row3_col9 {\n",
              "  background-color: #d1eee9;\n",
              "  color: #000000;\n",
              "}\n",
              "#T_6292b_row1_col10, #T_6292b_row7_col4, #T_6292b_row12_col11 {\n",
              "  background-color: #dff3f5;\n",
              "  color: #000000;\n",
              "}\n",
              "#T_6292b_row1_col11, #T_6292b_row4_col3, #T_6292b_row4_col10 {\n",
              "  background-color: #edf8fb;\n",
              "  color: #000000;\n",
              "}\n",
              "#T_6292b_row1_col12, #T_6292b_row3_col12 {\n",
              "  background-color: #a5ddd0;\n",
              "  color: #000000;\n",
              "}\n",
              "#T_6292b_row2_col0, #T_6292b_row3_col0, #T_6292b_row4_col0, #T_6292b_row4_col8, #T_6292b_row5_col0, #T_6292b_row5_col3, #T_6292b_row6_col0, #T_6292b_row7_col0, #T_6292b_row7_col3, #T_6292b_row11_col0, #T_6292b_row12_col0 {\n",
              "  background-color: #f4fbfc;\n",
              "  color: #000000;\n",
              "}\n",
              "#T_6292b_row2_col1, #T_6292b_row2_col3, #T_6292b_row4_col1, #T_6292b_row5_col12, #T_6292b_row8_col0, #T_6292b_row9_col4, #T_6292b_row11_col1, #T_6292b_row12_col3 {\n",
              "  background-color: #f2fafc;\n",
              "  color: #000000;\n",
              "}\n",
              "#T_6292b_row2_col4 {\n",
              "  background-color: #daf1f1;\n",
              "  color: #000000;\n",
              "}\n",
              "#T_6292b_row2_col5 {\n",
              "  background-color: #c0e7df;\n",
              "  color: #000000;\n",
              "}\n",
              "#T_6292b_row2_col7 {\n",
              "  background-color: #b7e4da;\n",
              "  color: #000000;\n",
              "}\n",
              "#T_6292b_row2_col12 {\n",
              "  background-color: #92d5c4;\n",
              "  color: #000000;\n",
              "}\n",
              "#T_6292b_row3_col1 {\n",
              "  background-color: #e6f5f9;\n",
              "  color: #000000;\n",
              "}\n",
              "#T_6292b_row3_col2, #T_6292b_row5_col10 {\n",
              "  background-color: #caebe5;\n",
              "  color: #000000;\n",
              "}\n",
              "#T_6292b_row3_col4 {\n",
              "  background-color: #dff3f4;\n",
              "  color: #000000;\n",
              "}\n",
              "#T_6292b_row3_col5 {\n",
              "  background-color: #b4e2d8;\n",
              "  color: #000000;\n",
              "}\n",
              "#T_6292b_row3_col6, #T_6292b_row7_col6, #T_6292b_row8_col3, #T_6292b_row9_col1, #T_6292b_row9_col3 {\n",
              "  background-color: #f6fcfd;\n",
              "  color: #000000;\n",
              "}\n",
              "#T_6292b_row3_col7, #T_6292b_row4_col5 {\n",
              "  background-color: #a8ded2;\n",
              "  color: #000000;\n",
              "}\n",
              "#T_6292b_row3_col8, #T_6292b_row10_col0 {\n",
              "  background-color: #f5fbfc;\n",
              "  color: #000000;\n",
              "}\n",
              "#T_6292b_row3_col10 {\n",
              "  background-color: #def2f4;\n",
              "  color: #000000;\n",
              "}\n",
              "#T_6292b_row4_col2 {\n",
              "  background-color: #b8e4db;\n",
              "  color: #000000;\n",
              "}\n",
              "#T_6292b_row4_col7 {\n",
              "  background-color: #9ddacb;\n",
              "  color: #000000;\n",
              "}\n",
              "#T_6292b_row4_col12 {\n",
              "  background-color: #b2e2d7;\n",
              "  color: #000000;\n",
              "}\n",
              "#T_6292b_row5_col2, #T_6292b_row7_col2 {\n",
              "  background-color: #d5efed;\n",
              "  color: #000000;\n",
              "}\n",
              "#T_6292b_row5_col6 {\n",
              "  background-color: #eaf7fa;\n",
              "  color: #000000;\n",
              "}\n",
              "#T_6292b_row5_col9 {\n",
              "  background-color: #95d6c6;\n",
              "  color: #000000;\n",
              "}\n",
              "#T_6292b_row5_col11, #T_6292b_row6_col4, #T_6292b_row9_col8, #T_6292b_row12_col4 {\n",
              "  background-color: #ebf7fa;\n",
              "  color: #000000;\n",
              "}\n",
              "#T_6292b_row6_col2 {\n",
              "  background-color: #c5e9e2;\n",
              "  color: #000000;\n",
              "}\n",
              "#T_6292b_row6_col7 {\n",
              "  background-color: #b0e1d6;\n",
              "  color: #000000;\n",
              "}\n",
              "#T_6292b_row6_col8, #T_6292b_row8_col6, #T_6292b_row10_col6 {\n",
              "  background-color: #e8f6fa;\n",
              "  color: #000000;\n",
              "}\n",
              "#T_6292b_row6_col9, #T_6292b_row12_col2 {\n",
              "  background-color: #b5e3d9;\n",
              "  color: #000000;\n",
              "}\n",
              "#T_6292b_row6_col10 {\n",
              "  background-color: #ceede8;\n",
              "  color: #000000;\n",
              "}\n",
              "#T_6292b_row6_col11 {\n",
              "  background-color: #dcf2f2;\n",
              "  color: #000000;\n",
              "}\n",
              "#T_6292b_row6_col12 {\n",
              "  background-color: #218944;\n",
              "  color: #f1f1f1;\n",
              "}\n",
              "#T_6292b_row7_col9 {\n",
              "  background-color: #97d7c7;\n",
              "  color: #000000;\n",
              "}\n",
              "#T_6292b_row7_col11 {\n",
              "  background-color: #ecf8fb;\n",
              "  color: #000000;\n",
              "}\n",
              "#T_6292b_row8_col2, #T_6292b_row9_col12 {\n",
              "  background-color: #bae5dc;\n",
              "  color: #000000;\n",
              "}\n",
              "#T_6292b_row8_col5 {\n",
              "  background-color: #aadfd3;\n",
              "  color: #000000;\n",
              "}\n",
              "#T_6292b_row8_col9, #T_6292b_row11_col2, #T_6292b_row11_col10 {\n",
              "  background-color: #bde6de;\n",
              "  color: #000000;\n",
              "}\n",
              "#T_6292b_row8_col10, #T_6292b_row12_col9, #T_6292b_row12_col10 {\n",
              "  background-color: #d7f0ee;\n",
              "  color: #000000;\n",
              "}\n",
              "#T_6292b_row8_col11 {\n",
              "  background-color: #7fcdb6;\n",
              "  color: #000000;\n",
              "}\n",
              "#T_6292b_row8_col12 {\n",
              "  background-color: #9ad8ca;\n",
              "  color: #000000;\n",
              "}\n",
              "#T_6292b_row9_col5 {\n",
              "  background-color: #7dccb5;\n",
              "  color: #000000;\n",
              "}\n",
              "#T_6292b_row9_col7 {\n",
              "  background-color: #77c9b0;\n",
              "  color: #000000;\n",
              "}\n",
              "#T_6292b_row9_col10 {\n",
              "  background-color: #087432;\n",
              "  color: #f1f1f1;\n",
              "}\n",
              "#T_6292b_row9_col11 {\n",
              "  background-color: #ddf2f3;\n",
              "  color: #000000;\n",
              "}\n",
              "#T_6292b_row10_col2, #T_6292b_row12_col8 {\n",
              "  background-color: #ecf8fa;\n",
              "  color: #000000;\n",
              "}\n",
              "#T_6292b_row10_col5 {\n",
              "  background-color: #98d8c9;\n",
              "  color: #000000;\n",
              "}\n",
              "#T_6292b_row10_col7, #T_6292b_row11_col12 {\n",
              "  background-color: #90d4c3;\n",
              "  color: #000000;\n",
              "}\n",
              "#T_6292b_row10_col9 {\n",
              "  background-color: #05712f;\n",
              "  color: #f1f1f1;\n",
              "}\n",
              "#T_6292b_row11_col5 {\n",
              "  background-color: #ade0d4;\n",
              "  color: #000000;\n",
              "}\n",
              "#T_6292b_row11_col6 {\n",
              "  background-color: #e3f4f8;\n",
              "  color: #000000;\n",
              "}\n",
              "#T_6292b_row11_col7 {\n",
              "  background-color: #a7ddd1;\n",
              "  color: #000000;\n",
              "}\n",
              "#T_6292b_row11_col8 {\n",
              "  background-color: #8ad2be;\n",
              "  color: #000000;\n",
              "}\n",
              "#T_6292b_row11_col9 {\n",
              "  background-color: #afe1d5;\n",
              "  color: #000000;\n",
              "}\n",
              "#T_6292b_row12_col6 {\n",
              "  background-color: #3da96f;\n",
              "  color: #f1f1f1;\n",
              "}\n",
              "</style>\n",
              "<table id=\"T_6292b\" class=\"dataframe\">\n",
              "  <thead>\n",
              "    <tr>\n",
              "      <th class=\"blank level0\" >&nbsp;</th>\n",
              "      <th id=\"T_6292b_level0_col0\" class=\"col_heading level0 col0\" >CLIENTNUM</th>\n",
              "      <th id=\"T_6292b_level0_col1\" class=\"col_heading level0 col1\" >Months_on_book</th>\n",
              "      <th id=\"T_6292b_level0_col2\" class=\"col_heading level0 col2\" >Total_Relationship_Count</th>\n",
              "      <th id=\"T_6292b_level0_col3\" class=\"col_heading level0 col3\" >Months_Inactive_12_mon</th>\n",
              "      <th id=\"T_6292b_level0_col4\" class=\"col_heading level0 col4\" >Contacts_Count_12_mon</th>\n",
              "      <th id=\"T_6292b_level0_col5\" class=\"col_heading level0 col5\" >Credit_Limit</th>\n",
              "      <th id=\"T_6292b_level0_col6\" class=\"col_heading level0 col6\" >Total_Revolving_Bal</th>\n",
              "      <th id=\"T_6292b_level0_col7\" class=\"col_heading level0 col7\" >Avg_Open_To_Buy</th>\n",
              "      <th id=\"T_6292b_level0_col8\" class=\"col_heading level0 col8\" >Total_Amt_Chng_Q4_Q1</th>\n",
              "      <th id=\"T_6292b_level0_col9\" class=\"col_heading level0 col9\" >Total_Trans_Amt</th>\n",
              "      <th id=\"T_6292b_level0_col10\" class=\"col_heading level0 col10\" >Total_Trans_Ct</th>\n",
              "      <th id=\"T_6292b_level0_col11\" class=\"col_heading level0 col11\" >Total_Ct_Chng_Q4_Q1</th>\n",
              "      <th id=\"T_6292b_level0_col12\" class=\"col_heading level0 col12\" >Avg_Utilization_Ratio</th>\n",
              "    </tr>\n",
              "  </thead>\n",
              "  <tbody>\n",
              "    <tr>\n",
              "      <th id=\"T_6292b_level0_row0\" class=\"row_heading level0 row0\" >CLIENTNUM</th>\n",
              "      <td id=\"T_6292b_row0_col0\" class=\"data row0 col0\" >1.000000</td>\n",
              "      <td id=\"T_6292b_row0_col1\" class=\"data row0 col1\" >0.134588</td>\n",
              "      <td id=\"T_6292b_row0_col2\" class=\"data row0 col2\" >0.006907</td>\n",
              "      <td id=\"T_6292b_row0_col3\" class=\"data row0 col3\" >0.005729</td>\n",
              "      <td id=\"T_6292b_row0_col4\" class=\"data row0 col4\" >0.005694</td>\n",
              "      <td id=\"T_6292b_row0_col5\" class=\"data row0 col5\" >0.005708</td>\n",
              "      <td id=\"T_6292b_row0_col6\" class=\"data row0 col6\" >0.000825</td>\n",
              "      <td id=\"T_6292b_row0_col7\" class=\"data row0 col7\" >0.005633</td>\n",
              "      <td id=\"T_6292b_row0_col8\" class=\"data row0 col8\" >0.017369</td>\n",
              "      <td id=\"T_6292b_row0_col9\" class=\"data row0 col9\" >-0.019692</td>\n",
              "      <td id=\"T_6292b_row0_col10\" class=\"data row0 col10\" >-0.002961</td>\n",
              "      <td id=\"T_6292b_row0_col11\" class=\"data row0 col11\" >0.007696</td>\n",
              "      <td id=\"T_6292b_row0_col12\" class=\"data row0 col12\" >0.000266</td>\n",
              "    </tr>\n",
              "    <tr>\n",
              "      <th id=\"T_6292b_level0_row1\" class=\"row_heading level0 row1\" >Months_on_book</th>\n",
              "      <td id=\"T_6292b_row1_col0\" class=\"data row1 col0\" >0.134588</td>\n",
              "      <td id=\"T_6292b_row1_col1\" class=\"data row1 col1\" >1.000000</td>\n",
              "      <td id=\"T_6292b_row1_col2\" class=\"data row1 col2\" >-0.009203</td>\n",
              "      <td id=\"T_6292b_row1_col3\" class=\"data row1 col3\" >0.074164</td>\n",
              "      <td id=\"T_6292b_row1_col4\" class=\"data row1 col4\" >-0.010774</td>\n",
              "      <td id=\"T_6292b_row1_col5\" class=\"data row1 col5\" >0.007507</td>\n",
              "      <td id=\"T_6292b_row1_col6\" class=\"data row1 col6\" >0.008623</td>\n",
              "      <td id=\"T_6292b_row1_col7\" class=\"data row1 col7\" >0.006732</td>\n",
              "      <td id=\"T_6292b_row1_col8\" class=\"data row1 col8\" >-0.048959</td>\n",
              "      <td id=\"T_6292b_row1_col9\" class=\"data row1 col9\" >-0.038591</td>\n",
              "      <td id=\"T_6292b_row1_col10\" class=\"data row1 col10\" >-0.049819</td>\n",
              "      <td id=\"T_6292b_row1_col11\" class=\"data row1 col11\" >-0.014072</td>\n",
              "      <td id=\"T_6292b_row1_col12\" class=\"data row1 col12\" >-0.007541</td>\n",
              "    </tr>\n",
              "    <tr>\n",
              "      <th id=\"T_6292b_level0_row2\" class=\"row_heading level0 row2\" >Total_Relationship_Count</th>\n",
              "      <td id=\"T_6292b_row2_col0\" class=\"data row2 col0\" >0.006907</td>\n",
              "      <td id=\"T_6292b_row2_col1\" class=\"data row2 col1\" >-0.009203</td>\n",
              "      <td id=\"T_6292b_row2_col2\" class=\"data row2 col2\" >1.000000</td>\n",
              "      <td id=\"T_6292b_row2_col3\" class=\"data row2 col3\" >-0.003675</td>\n",
              "      <td id=\"T_6292b_row2_col4\" class=\"data row2 col4\" >0.055203</td>\n",
              "      <td id=\"T_6292b_row2_col5\" class=\"data row2 col5\" >-0.071386</td>\n",
              "      <td id=\"T_6292b_row2_col6\" class=\"data row2 col6\" >0.013726</td>\n",
              "      <td id=\"T_6292b_row2_col7\" class=\"data row2 col7\" >-0.072601</td>\n",
              "      <td id=\"T_6292b_row2_col8\" class=\"data row2 col8\" >0.050119</td>\n",
              "      <td id=\"T_6292b_row2_col9\" class=\"data row2 col9\" >-0.347229</td>\n",
              "      <td id=\"T_6292b_row2_col10\" class=\"data row2 col10\" >-0.241891</td>\n",
              "      <td id=\"T_6292b_row2_col11\" class=\"data row2 col11\" >0.040831</td>\n",
              "      <td id=\"T_6292b_row2_col12\" class=\"data row2 col12\" >0.067663</td>\n",
              "    </tr>\n",
              "    <tr>\n",
              "      <th id=\"T_6292b_level0_row3\" class=\"row_heading level0 row3\" >Months_Inactive_12_mon</th>\n",
              "      <td id=\"T_6292b_row3_col0\" class=\"data row3 col0\" >0.005729</td>\n",
              "      <td id=\"T_6292b_row3_col1\" class=\"data row3 col1\" >0.074164</td>\n",
              "      <td id=\"T_6292b_row3_col2\" class=\"data row3 col2\" >-0.003675</td>\n",
              "      <td id=\"T_6292b_row3_col3\" class=\"data row3 col3\" >1.000000</td>\n",
              "      <td id=\"T_6292b_row3_col4\" class=\"data row3 col4\" >0.029493</td>\n",
              "      <td id=\"T_6292b_row3_col5\" class=\"data row3 col5\" >-0.020394</td>\n",
              "      <td id=\"T_6292b_row3_col6\" class=\"data row3 col6\" >-0.042210</td>\n",
              "      <td id=\"T_6292b_row3_col7\" class=\"data row3 col7\" >-0.016605</td>\n",
              "      <td id=\"T_6292b_row3_col8\" class=\"data row3 col8\" >-0.032247</td>\n",
              "      <td id=\"T_6292b_row3_col9\" class=\"data row3 col9\" >-0.036982</td>\n",
              "      <td id=\"T_6292b_row3_col10\" class=\"data row3 col10\" >-0.042787</td>\n",
              "      <td id=\"T_6292b_row3_col11\" class=\"data row3 col11\" >-0.038989</td>\n",
              "      <td id=\"T_6292b_row3_col12\" class=\"data row3 col12\" >-0.007503</td>\n",
              "    </tr>\n",
              "    <tr>\n",
              "      <th id=\"T_6292b_level0_row4\" class=\"row_heading level0 row4\" >Contacts_Count_12_mon</th>\n",
              "      <td id=\"T_6292b_row4_col0\" class=\"data row4 col0\" >0.005694</td>\n",
              "      <td id=\"T_6292b_row4_col1\" class=\"data row4 col1\" >-0.010774</td>\n",
              "      <td id=\"T_6292b_row4_col2\" class=\"data row4 col2\" >0.055203</td>\n",
              "      <td id=\"T_6292b_row4_col3\" class=\"data row4 col3\" >0.029493</td>\n",
              "      <td id=\"T_6292b_row4_col4\" class=\"data row4 col4\" >1.000000</td>\n",
              "      <td id=\"T_6292b_row4_col5\" class=\"data row4 col5\" >0.020817</td>\n",
              "      <td id=\"T_6292b_row4_col6\" class=\"data row4 col6\" >-0.053913</td>\n",
              "      <td id=\"T_6292b_row4_col7\" class=\"data row4 col7\" >0.025646</td>\n",
              "      <td id=\"T_6292b_row4_col8\" class=\"data row4 col8\" >-0.024445</td>\n",
              "      <td id=\"T_6292b_row4_col9\" class=\"data row4 col9\" >-0.112774</td>\n",
              "      <td id=\"T_6292b_row4_col10\" class=\"data row4 col10\" >-0.152213</td>\n",
              "      <td id=\"T_6292b_row4_col11\" class=\"data row4 col11\" >-0.094997</td>\n",
              "      <td id=\"T_6292b_row4_col12\" class=\"data row4 col12\" >-0.055471</td>\n",
              "    </tr>\n",
              "    <tr>\n",
              "      <th id=\"T_6292b_level0_row5\" class=\"row_heading level0 row5\" >Credit_Limit</th>\n",
              "      <td id=\"T_6292b_row5_col0\" class=\"data row5 col0\" >0.005708</td>\n",
              "      <td id=\"T_6292b_row5_col1\" class=\"data row5 col1\" >0.007507</td>\n",
              "      <td id=\"T_6292b_row5_col2\" class=\"data row5 col2\" >-0.071386</td>\n",
              "      <td id=\"T_6292b_row5_col3\" class=\"data row5 col3\" >-0.020394</td>\n",
              "      <td id=\"T_6292b_row5_col4\" class=\"data row5 col4\" >0.020817</td>\n",
              "      <td id=\"T_6292b_row5_col5\" class=\"data row5 col5\" >1.000000</td>\n",
              "      <td id=\"T_6292b_row5_col6\" class=\"data row5 col6\" >0.042493</td>\n",
              "      <td id=\"T_6292b_row5_col7\" class=\"data row5 col7\" >0.995981</td>\n",
              "      <td id=\"T_6292b_row5_col8\" class=\"data row5 col8\" >0.012813</td>\n",
              "      <td id=\"T_6292b_row5_col9\" class=\"data row5 col9\" >0.171730</td>\n",
              "      <td id=\"T_6292b_row5_col10\" class=\"data row5 col10\" >0.075927</td>\n",
              "      <td id=\"T_6292b_row5_col11\" class=\"data row5 col11\" >-0.002020</td>\n",
              "      <td id=\"T_6292b_row5_col12\" class=\"data row5 col12\" >-0.482965</td>\n",
              "    </tr>\n",
              "    <tr>\n",
              "      <th id=\"T_6292b_level0_row6\" class=\"row_heading level0 row6\" >Total_Revolving_Bal</th>\n",
              "      <td id=\"T_6292b_row6_col0\" class=\"data row6 col0\" >0.000825</td>\n",
              "      <td id=\"T_6292b_row6_col1\" class=\"data row6 col1\" >0.008623</td>\n",
              "      <td id=\"T_6292b_row6_col2\" class=\"data row6 col2\" >0.013726</td>\n",
              "      <td id=\"T_6292b_row6_col3\" class=\"data row6 col3\" >-0.042210</td>\n",
              "      <td id=\"T_6292b_row6_col4\" class=\"data row6 col4\" >-0.053913</td>\n",
              "      <td id=\"T_6292b_row6_col5\" class=\"data row6 col5\" >0.042493</td>\n",
              "      <td id=\"T_6292b_row6_col6\" class=\"data row6 col6\" >1.000000</td>\n",
              "      <td id=\"T_6292b_row6_col7\" class=\"data row6 col7\" >-0.047167</td>\n",
              "      <td id=\"T_6292b_row6_col8\" class=\"data row6 col8\" >0.058174</td>\n",
              "      <td id=\"T_6292b_row6_col9\" class=\"data row6 col9\" >0.064370</td>\n",
              "      <td id=\"T_6292b_row6_col10\" class=\"data row6 col10\" >0.056060</td>\n",
              "      <td id=\"T_6292b_row6_col11\" class=\"data row6 col11\" >0.089861</td>\n",
              "      <td id=\"T_6292b_row6_col12\" class=\"data row6 col12\" >0.624022</td>\n",
              "    </tr>\n",
              "    <tr>\n",
              "      <th id=\"T_6292b_level0_row7\" class=\"row_heading level0 row7\" >Avg_Open_To_Buy</th>\n",
              "      <td id=\"T_6292b_row7_col0\" class=\"data row7 col0\" >0.005633</td>\n",
              "      <td id=\"T_6292b_row7_col1\" class=\"data row7 col1\" >0.006732</td>\n",
              "      <td id=\"T_6292b_row7_col2\" class=\"data row7 col2\" >-0.072601</td>\n",
              "      <td id=\"T_6292b_row7_col3\" class=\"data row7 col3\" >-0.016605</td>\n",
              "      <td id=\"T_6292b_row7_col4\" class=\"data row7 col4\" >0.025646</td>\n",
              "      <td id=\"T_6292b_row7_col5\" class=\"data row7 col5\" >0.995981</td>\n",
              "      <td id=\"T_6292b_row7_col6\" class=\"data row7 col6\" >-0.047167</td>\n",
              "      <td id=\"T_6292b_row7_col7\" class=\"data row7 col7\" >1.000000</td>\n",
              "      <td id=\"T_6292b_row7_col8\" class=\"data row7 col8\" >0.007595</td>\n",
              "      <td id=\"T_6292b_row7_col9\" class=\"data row7 col9\" >0.165923</td>\n",
              "      <td id=\"T_6292b_row7_col10\" class=\"data row7 col10\" >0.070885</td>\n",
              "      <td id=\"T_6292b_row7_col11\" class=\"data row7 col11\" >-0.010076</td>\n",
              "      <td id=\"T_6292b_row7_col12\" class=\"data row7 col12\" >-0.538808</td>\n",
              "    </tr>\n",
              "    <tr>\n",
              "      <th id=\"T_6292b_level0_row8\" class=\"row_heading level0 row8\" >Total_Amt_Chng_Q4_Q1</th>\n",
              "      <td id=\"T_6292b_row8_col0\" class=\"data row8 col0\" >0.017369</td>\n",
              "      <td id=\"T_6292b_row8_col1\" class=\"data row8 col1\" >-0.048959</td>\n",
              "      <td id=\"T_6292b_row8_col2\" class=\"data row8 col2\" >0.050119</td>\n",
              "      <td id=\"T_6292b_row8_col3\" class=\"data row8 col3\" >-0.032247</td>\n",
              "      <td id=\"T_6292b_row8_col4\" class=\"data row8 col4\" >-0.024445</td>\n",
              "      <td id=\"T_6292b_row8_col5\" class=\"data row8 col5\" >0.012813</td>\n",
              "      <td id=\"T_6292b_row8_col6\" class=\"data row8 col6\" >0.058174</td>\n",
              "      <td id=\"T_6292b_row8_col7\" class=\"data row8 col7\" >0.007595</td>\n",
              "      <td id=\"T_6292b_row8_col8\" class=\"data row8 col8\" >1.000000</td>\n",
              "      <td id=\"T_6292b_row8_col9\" class=\"data row8 col9\" >0.039678</td>\n",
              "      <td id=\"T_6292b_row8_col10\" class=\"data row8 col10\" >0.005469</td>\n",
              "      <td id=\"T_6292b_row8_col11\" class=\"data row8 col11\" >0.384189</td>\n",
              "      <td id=\"T_6292b_row8_col12\" class=\"data row8 col12\" >0.035235</td>\n",
              "    </tr>\n",
              "    <tr>\n",
              "      <th id=\"T_6292b_level0_row9\" class=\"row_heading level0 row9\" >Total_Trans_Amt</th>\n",
              "      <td id=\"T_6292b_row9_col0\" class=\"data row9 col0\" >-0.019692</td>\n",
              "      <td id=\"T_6292b_row9_col1\" class=\"data row9 col1\" >-0.038591</td>\n",
              "      <td id=\"T_6292b_row9_col2\" class=\"data row9 col2\" >-0.347229</td>\n",
              "      <td id=\"T_6292b_row9_col3\" class=\"data row9 col3\" >-0.036982</td>\n",
              "      <td id=\"T_6292b_row9_col4\" class=\"data row9 col4\" >-0.112774</td>\n",
              "      <td id=\"T_6292b_row9_col5\" class=\"data row9 col5\" >0.171730</td>\n",
              "      <td id=\"T_6292b_row9_col6\" class=\"data row9 col6\" >0.064370</td>\n",
              "      <td id=\"T_6292b_row9_col7\" class=\"data row9 col7\" >0.165923</td>\n",
              "      <td id=\"T_6292b_row9_col8\" class=\"data row9 col8\" >0.039678</td>\n",
              "      <td id=\"T_6292b_row9_col9\" class=\"data row9 col9\" >1.000000</td>\n",
              "      <td id=\"T_6292b_row9_col10\" class=\"data row9 col10\" >0.807192</td>\n",
              "      <td id=\"T_6292b_row9_col11\" class=\"data row9 col11\" >0.085581</td>\n",
              "      <td id=\"T_6292b_row9_col12\" class=\"data row9 col12\" >-0.083034</td>\n",
              "    </tr>\n",
              "    <tr>\n",
              "      <th id=\"T_6292b_level0_row10\" class=\"row_heading level0 row10\" >Total_Trans_Ct</th>\n",
              "      <td id=\"T_6292b_row10_col0\" class=\"data row10 col0\" >-0.002961</td>\n",
              "      <td id=\"T_6292b_row10_col1\" class=\"data row10 col1\" >-0.049819</td>\n",
              "      <td id=\"T_6292b_row10_col2\" class=\"data row10 col2\" >-0.241891</td>\n",
              "      <td id=\"T_6292b_row10_col3\" class=\"data row10 col3\" >-0.042787</td>\n",
              "      <td id=\"T_6292b_row10_col4\" class=\"data row10 col4\" >-0.152213</td>\n",
              "      <td id=\"T_6292b_row10_col5\" class=\"data row10 col5\" >0.075927</td>\n",
              "      <td id=\"T_6292b_row10_col6\" class=\"data row10 col6\" >0.056060</td>\n",
              "      <td id=\"T_6292b_row10_col7\" class=\"data row10 col7\" >0.070885</td>\n",
              "      <td id=\"T_6292b_row10_col8\" class=\"data row10 col8\" >0.005469</td>\n",
              "      <td id=\"T_6292b_row10_col9\" class=\"data row10 col9\" >0.807192</td>\n",
              "      <td id=\"T_6292b_row10_col10\" class=\"data row10 col10\" >1.000000</td>\n",
              "      <td id=\"T_6292b_row10_col11\" class=\"data row10 col11\" >0.112324</td>\n",
              "      <td id=\"T_6292b_row10_col12\" class=\"data row10 col12\" >0.002838</td>\n",
              "    </tr>\n",
              "    <tr>\n",
              "      <th id=\"T_6292b_level0_row11\" class=\"row_heading level0 row11\" >Total_Ct_Chng_Q4_Q1</th>\n",
              "      <td id=\"T_6292b_row11_col0\" class=\"data row11 col0\" >0.007696</td>\n",
              "      <td id=\"T_6292b_row11_col1\" class=\"data row11 col1\" >-0.014072</td>\n",
              "      <td id=\"T_6292b_row11_col2\" class=\"data row11 col2\" >0.040831</td>\n",
              "      <td id=\"T_6292b_row11_col3\" class=\"data row11 col3\" >-0.038989</td>\n",
              "      <td id=\"T_6292b_row11_col4\" class=\"data row11 col4\" >-0.094997</td>\n",
              "      <td id=\"T_6292b_row11_col5\" class=\"data row11 col5\" >-0.002020</td>\n",
              "      <td id=\"T_6292b_row11_col6\" class=\"data row11 col6\" >0.089861</td>\n",
              "      <td id=\"T_6292b_row11_col7\" class=\"data row11 col7\" >-0.010076</td>\n",
              "      <td id=\"T_6292b_row11_col8\" class=\"data row11 col8\" >0.384189</td>\n",
              "      <td id=\"T_6292b_row11_col9\" class=\"data row11 col9\" >0.085581</td>\n",
              "      <td id=\"T_6292b_row11_col10\" class=\"data row11 col10\" >0.112324</td>\n",
              "      <td id=\"T_6292b_row11_col11\" class=\"data row11 col11\" >1.000000</td>\n",
              "      <td id=\"T_6292b_row11_col12\" class=\"data row11 col12\" >0.074143</td>\n",
              "    </tr>\n",
              "    <tr>\n",
              "      <th id=\"T_6292b_level0_row12\" class=\"row_heading level0 row12\" >Avg_Utilization_Ratio</th>\n",
              "      <td id=\"T_6292b_row12_col0\" class=\"data row12 col0\" >0.000266</td>\n",
              "      <td id=\"T_6292b_row12_col1\" class=\"data row12 col1\" >-0.007541</td>\n",
              "      <td id=\"T_6292b_row12_col2\" class=\"data row12 col2\" >0.067663</td>\n",
              "      <td id=\"T_6292b_row12_col3\" class=\"data row12 col3\" >-0.007503</td>\n",
              "      <td id=\"T_6292b_row12_col4\" class=\"data row12 col4\" >-0.055471</td>\n",
              "      <td id=\"T_6292b_row12_col5\" class=\"data row12 col5\" >-0.482965</td>\n",
              "      <td id=\"T_6292b_row12_col6\" class=\"data row12 col6\" >0.624022</td>\n",
              "      <td id=\"T_6292b_row12_col7\" class=\"data row12 col7\" >-0.538808</td>\n",
              "      <td id=\"T_6292b_row12_col8\" class=\"data row12 col8\" >0.035235</td>\n",
              "      <td id=\"T_6292b_row12_col9\" class=\"data row12 col9\" >-0.083034</td>\n",
              "      <td id=\"T_6292b_row12_col10\" class=\"data row12 col10\" >0.002838</td>\n",
              "      <td id=\"T_6292b_row12_col11\" class=\"data row12 col11\" >0.074143</td>\n",
              "      <td id=\"T_6292b_row12_col12\" class=\"data row12 col12\" >1.000000</td>\n",
              "    </tr>\n",
              "  </tbody>\n",
              "</table>\n"
            ]
          },
          "metadata": {},
          "execution_count": 26
        }
      ]
    },
    {
      "cell_type": "markdown",
      "source": [
        "There is some co-relation between the columns: \"Total_Trans_Amt\" and \"Total_Trans_Ct\".\n",
        "\n",
        "Meaning of the columns:\n",
        "\n",
        "* Total_Trans_Ct: Total transaction count.\n",
        "* Total_Trans_Amt: Total transaction amount."
      ],
      "metadata": {
        "id": "NTVZdK2nOVdz"
      }
    },
    {
      "cell_type": "markdown",
      "source": [
        "Near perfect co-relation is observed between Credit Limit and Average Open to Buy. This is because\n",
        "Open-to-Buy is the difference between the credit limit assigned to a cardholder account and the present balance on the account."
      ],
      "metadata": {
        "id": "2qeR_UDfOVd0"
      }
    },
    {
      "cell_type": "code",
      "source": [
        "plt.scatter(credit['Credit_Limit'], credit['Avg_Open_To_Buy'], alpha = 0.5)\n",
        "pass"
      ],
      "metadata": {
        "execution": {
          "iopub.status.busy": "2023-05-03T16:26:11.394378Z",
          "iopub.execute_input": "2023-05-03T16:26:11.394976Z",
          "iopub.status.idle": "2023-05-03T16:26:11.619491Z",
          "shell.execute_reply.started": "2023-05-03T16:26:11.394896Z",
          "shell.execute_reply": "2023-05-03T16:26:11.618249Z"
        },
        "trusted": true,
        "id": "Tc-FGwCFOVd0",
        "colab": {
          "base_uri": "https://localhost:8080/",
          "height": 430
        },
        "outputId": "a4583e1a-fb66-4054-c761-63628d54530c"
      },
      "execution_count": 27,
      "outputs": [
        {
          "output_type": "display_data",
          "data": {
            "text/plain": [
              "<Figure size 640x480 with 1 Axes>"
            ],
            "image/png": "[encoded data removed]"
          },
          "metadata": {}
        }
      ]
    },
    {
      "cell_type": "markdown",
      "source": [
        "# **<span style=\"color:#d62828;\">5. One Hot Encoding</span>**\n",
        "For categorical data (1 to 12)"
      ],
      "metadata": {
        "id": "t9ymUuIWOVd0"
      }
    },
    {
      "cell_type": "code",
      "source": [
        "credit.info()"
      ],
      "metadata": {
        "execution": {
          "iopub.status.busy": "2023-05-03T15:34:11.505277Z",
          "iopub.execute_input": "2023-05-03T15:34:11.505607Z",
          "iopub.status.idle": "2023-05-03T15:34:11.520627Z",
          "shell.execute_reply.started": "2023-05-03T15:34:11.505577Z",
          "shell.execute_reply": "2023-05-03T15:34:11.519555Z"
        },
        "trusted": true,
        "id": "xuBqhpvrOVd0",
        "colab": {
          "base_uri": "https://localhost:8080/"
        },
        "outputId": "f678cad2-874a-427e-c04c-fe776b9cd955"
      },
      "execution_count": 28,
      "outputs": [
        {
          "output_type": "stream",
          "name": "stdout",
          "text": [
            "<class 'pandas.core.frame.DataFrame'>\n",
            "RangeIndex: 10127 entries, 0 to 10126\n",
            "Data columns (total 21 columns):\n",
            " #   Column                    Non-Null Count  Dtype   \n",
            "---  ------                    --------------  -----   \n",
            " 0   CLIENTNUM                 10127 non-null  int64   \n",
            " 1   Attrition_Flag            10127 non-null  category\n",
            " 2   Customer_Age              10127 non-null  category\n",
            " 3   Gender                    10127 non-null  category\n",
            " 4   Dependent_count           10127 non-null  category\n",
            " 5   Education_Level           10127 non-null  category\n",
            " 6   Marital_Status            10127 non-null  category\n",
            " 7   Income_Category           10127 non-null  category\n",
            " 8   Card_Category             10127 non-null  category\n",
            " 9   Months_on_book            10127 non-null  int64   \n",
            " 10  Total_Relationship_Count  10127 non-null  int64   \n",
            " 11  Months_Inactive_12_mon    10127 non-null  int64   \n",
            " 12  Contacts_Count_12_mon     10127 non-null  int64   \n",
            " 13  Credit_Limit              10127 non-null  float64 \n",
            " 14  Total_Revolving_Bal       10127 non-null  int64   \n",
            " 15  Avg_Open_To_Buy           10127 non-null  float64 \n",
            " 16  Total_Amt_Chng_Q4_Q1      10127 non-null  float64 \n",
            " 17  Total_Trans_Amt           10127 non-null  int64   \n",
            " 18  Total_Trans_Ct            10127 non-null  int64   \n",
            " 19  Total_Ct_Chng_Q4_Q1       10127 non-null  float64 \n",
            " 20  Avg_Utilization_Ratio     10127 non-null  float64 \n",
            "dtypes: category(8), float64(5), int64(8)\n",
            "memory usage: 1.1 MB\n"
          ]
        }
      ]
    },
    {
      "cell_type": "code",
      "source": [
        "from sklearn.preprocessing import LabelEncoder, OneHotEncoder\n",
        "\n",
        "#Separating all the columns with categorical data\n",
        "categorical = [ 'Gender', 'Education_Level', 'Dependent_count', 'Marital_Status', 'Income_Category', 'Card_Category']\n",
        "df_categorical = credit[categorical]\n",
        "\n",
        "#We will use One Hot Encoding\n",
        "label_encoder = LabelEncoder()\n",
        "one_hot_encoder = OneHotEncoder()\n",
        "\n",
        "df_categorical = one_hot_encoder.fit_transform(df_categorical).toarray()\n",
        "\n",
        "#Drop the categorical columns\n",
        "credit = credit.drop(categorical, axis=1)\n",
        "\n",
        "#Append the encoded columns to dataframe\n",
        "encoded_cols = []\n",
        "for i in range(df_categorical.shape[1]):\n",
        "    encoded_col = 'encoded_' + str(i)\n",
        "    credit[encoded_col] = df_categorical[:, i]\n",
        "    encoded_cols.append(encoded_col)\n",
        "\n",
        "print(credit.dtypes)"
      ],
      "metadata": {
        "execution": {
          "iopub.status.busy": "2023-05-03T15:36:04.943718Z",
          "iopub.execute_input": "2023-05-03T15:36:04.944582Z",
          "iopub.status.idle": "2023-05-03T15:36:04.99287Z",
          "shell.execute_reply.started": "2023-05-03T15:36:04.944541Z",
          "shell.execute_reply": "2023-05-03T15:36:04.991778Z"
        },
        "trusted": true,
        "id": "6yS-0xQVOVd1",
        "colab": {
          "base_uri": "https://localhost:8080/"
        },
        "outputId": "1e50c79f-8bda-4cea-e549-e236fc9eebad"
      },
      "execution_count": 29,
      "outputs": [
        {
          "output_type": "stream",
          "name": "stdout",
          "text": [
            "CLIENTNUM                      int64\n",
            "Attrition_Flag              category\n",
            "Customer_Age                category\n",
            "Months_on_book                 int64\n",
            "Total_Relationship_Count       int64\n",
            "Months_Inactive_12_mon         int64\n",
            "Contacts_Count_12_mon          int64\n",
            "Credit_Limit                 float64\n",
            "Total_Revolving_Bal            int64\n",
            "Avg_Open_To_Buy              float64\n",
            "Total_Amt_Chng_Q4_Q1         float64\n",
            "Total_Trans_Amt                int64\n",
            "Total_Trans_Ct                 int64\n",
            "Total_Ct_Chng_Q4_Q1          float64\n",
            "Avg_Utilization_Ratio        float64\n",
            "encoded_0                    float64\n",
            "encoded_1                    float64\n",
            "encoded_2                    float64\n",
            "encoded_3                    float64\n",
            "encoded_4                    float64\n",
            "encoded_5                    float64\n",
            "encoded_6                    float64\n",
            "encoded_7                    float64\n",
            "encoded_8                    float64\n",
            "encoded_9                    float64\n",
            "encoded_10                   float64\n",
            "encoded_11                   float64\n",
            "encoded_12                   float64\n",
            "encoded_13                   float64\n",
            "encoded_14                   float64\n",
            "encoded_15                   float64\n",
            "encoded_16                   float64\n",
            "encoded_17                   float64\n",
            "encoded_18                   float64\n",
            "encoded_19                   float64\n",
            "encoded_20                   float64\n",
            "encoded_21                   float64\n",
            "encoded_22                   float64\n",
            "encoded_23                   float64\n",
            "encoded_24                   float64\n",
            "encoded_25                   float64\n",
            "encoded_26                   float64\n",
            "encoded_27                   float64\n",
            "encoded_28                   float64\n",
            "dtype: object\n"
          ]
        }
      ]
    },
    {
      "cell_type": "markdown",
      "source": [
        "# **<span style=\"color:#d62828;\">6. Standardization</span>**"
      ],
      "metadata": {
        "id": "xbuqmA4kOVd4"
      }
    },
    {
      "cell_type": "code",
      "source": [
        "from sklearn.preprocessing import StandardScaler\n",
        "\n",
        "numerical = credit[credit.columns[13:21]]\n",
        "x_std = StandardScaler().fit_transform(numerical)\n",
        "\n",
        "print(x_std)"
      ],
      "metadata": {
        "execution": {
          "iopub.status.busy": "2023-05-03T15:36:16.729492Z",
          "iopub.execute_input": "2023-05-03T15:36:16.729908Z",
          "iopub.status.idle": "2023-05-03T15:36:16.747431Z",
          "shell.execute_reply.started": "2023-05-03T15:36:16.729875Z",
          "shell.execute_reply": "2023-05-03T15:36:16.746208Z"
        },
        "trusted": true,
        "id": "jjEskjdMOVd4",
        "colab": {
          "base_uri": "https://localhost:8080/"
        },
        "outputId": "a4f07516-d771-49c4-9bbc-fc4cd00c279b"
      },
      "execution_count": 30,
      "outputs": [
        {
          "output_type": "stream",
          "name": "stdout",
          "text": [
            "[[ 3.8340026  -0.77588223 -1.05995565 ... -0.21589388 -0.66852149\n",
            "   2.00768518]\n",
            " [12.60857291 -0.61627565  0.9434357  ... -0.21589388  1.49583822\n",
            "  -0.49808606]\n",
            " [ 6.80786367 -0.99715499 -1.05995565 ... -0.21589388  1.49583822\n",
            "  -0.49808606]\n",
            " ...\n",
            " [ 0.44430503 -0.99715499  0.9434357  ... -0.21589388 -0.66852149\n",
            "   2.00768518]\n",
            " [ 0.04106963 -0.99715499 -1.05995565 ... -0.21589388  1.49583822\n",
            "  -0.49808606]\n",
            " [-0.26555729 -0.31157218  0.9434357  ... -0.21589388  1.49583822\n",
            "  -0.49808606]]\n"
          ]
        }
      ]
    },
    {
      "cell_type": "markdown",
      "source": [
        "# **<span style=\"color:#d62828;\">7. Principal Component Analysis (Long Method)</span>**\n",
        "Dimensionality Reduction (13 to 20)"
      ],
      "metadata": {
        "id": "QErg0wo6OVd5"
      }
    },
    {
      "cell_type": "code",
      "source": [
        "mean_vec = np.mean(x_std, axis=0)\n",
        "cov_mat = (x_std - mean_vec).T.dot((x_std - mean_vec)) / (x_std.shape[0]-1)        #Covariance Matrix\n",
        "\n",
        "eig_val, eig_vec = np.linalg.eig(cov_mat)                                          #Eigen Decomposition\n",
        "\n",
        "for ev in eig_vec.T:\n",
        "    np.testing.assert_array_almost_equal(1.0, np.linalg.norm(ev))\n",
        "\n",
        "# Make a list of (eigenvalue, eigenvector) tuples\n",
        "eig_pairs = [(np.abs(eig_val[i]), eig_vec[:,i]) for i in range(len(eig_val))]\n",
        "# Sort the (eigenvalue, eigenvector) tuples from high to low\n",
        "eig_pairs.sort(key=lambda x: x[0], reverse=True)\n",
        "\n",
        "tot = sum(eig_val)\n",
        "var_exp = [(i / tot)*100 for i in sorted(eig_val, reverse=True)]\n",
        "cum_var_exp = np.cumsum(var_exp)"
      ],
      "metadata": {
        "execution": {
          "iopub.status.busy": "2023-05-03T15:39:15.180462Z",
          "iopub.execute_input": "2023-05-03T15:39:15.181616Z",
          "iopub.status.idle": "2023-05-03T15:39:15.198255Z",
          "shell.execute_reply.started": "2023-05-03T15:39:15.181563Z",
          "shell.execute_reply": "2023-05-03T15:39:15.19705Z"
        },
        "trusted": true,
        "id": "XIbQuYjbOVd5"
      },
      "execution_count": 31,
      "outputs": []
    },
    {
      "cell_type": "markdown",
      "source": [
        "# **Explained Variance**"
      ],
      "metadata": {
        "id": "irwqF0mMOVd6"
      }
    },
    {
      "cell_type": "code",
      "source": [
        "with plt.style.context('seaborn-whitegrid'):\n",
        "    plt.figure(figsize=(12, 8))\n",
        "\n",
        "    plt.bar(range(8), var_exp, alpha=0.5, align='center',\n",
        "            label='individual explained variance')\n",
        "\n",
        "    plt.step(range(8), cum_var_exp, where='mid',\n",
        "             label='cumulative explained variance')\n",
        "\n",
        "    plt.ylabel('Explained variance ratio')\n",
        "    plt.xlabel('Principal components')\n",
        "    plt.legend(loc='best')"
      ],
      "metadata": {
        "execution": {
          "iopub.status.busy": "2023-05-03T15:39:18.016577Z",
          "iopub.execute_input": "2023-05-03T15:39:18.017001Z",
          "iopub.status.idle": "2023-05-03T15:39:18.261089Z",
          "shell.execute_reply.started": "2023-05-03T15:39:18.016967Z",
          "shell.execute_reply": "2023-05-03T15:39:18.259956Z"
        },
        "trusted": true,
        "id": "114nVqx2OVd6",
        "colab": {
          "base_uri": "https://localhost:8080/",
          "height": 691
        },
        "outputId": "7a2884e9-e5b6-4a61-abd1-81716af312ad"
      },
      "execution_count": 32,
      "outputs": [
        {
          "output_type": "display_data",
          "data": {
            "text/plain": [
              "<Figure size 1200x800 with 1 Axes>"
            ],
            "image/png": "[encoded data removed]"
          },
          "metadata": {}
        }
      ]
    },
    {
      "cell_type": "code",
      "source": [
        "matrix_w = np.hstack(( eig_pairs[0][1].reshape(8,1),\n",
        "                      eig_pairs[1][1].reshape(8,1),\n",
        "                      eig_pairs[2][1].reshape(8,1),\n",
        "                      eig_pairs[3][1].reshape(8,1)))\n",
        "\n",
        "pca_output = x_std.dot(matrix_w)\n",
        "print(pca_output)"
      ],
      "metadata": {
        "execution": {
          "iopub.status.busy": "2023-05-03T15:40:10.769159Z",
          "iopub.execute_input": "2023-05-03T15:40:10.769583Z",
          "iopub.status.idle": "2023-05-03T15:40:10.778774Z",
          "shell.execute_reply.started": "2023-05-03T15:40:10.769548Z",
          "shell.execute_reply": "2023-05-03T15:40:10.777583Z"
        },
        "trusted": true,
        "id": "6ka6swg-OVd6",
        "colab": {
          "base_uri": "https://localhost:8080/"
        },
        "outputId": "ef6da7c1-4974-4e83-8e88-35e320bdcddc"
      },
      "execution_count": 33,
      "outputs": [
        {
          "output_type": "stream",
          "name": "stdout",
          "text": [
            "[[ 1.62486914 -1.71206781  1.37740958 -1.73173356]\n",
            " [-1.45119822  1.24998935  1.01962127 -5.25707575]\n",
            " [ 1.51384424  1.43597971  0.72070886 -2.8912556 ]\n",
            " ...\n",
            " [-0.90499606 -1.70818385  1.11182273 -0.07519291]\n",
            " [ 1.69658324  1.56842008  0.34242298 -0.02197905]\n",
            " [-1.19814946  1.4969035   0.3255837   0.13838819]]\n"
          ]
        }
      ]
    },
    {
      "cell_type": "markdown",
      "source": [
        "# **<span style=\"color:#d62828;\">8. Principal Component Analysis (Short Method)</span>**\n",
        "Shorter way of implementing PCA by directly using Factor Analyzer function."
      ],
      "metadata": {
        "id": "kMmbgUpAOVd7"
      }
    },
    {
      "cell_type": "code",
      "source": [
        "!pip install factor_analyzer\n",
        "from factor_analyzer import FactorAnalyzer"
      ],
      "metadata": {
        "trusted": true,
        "id": "SUQvLLXXOVd7",
        "colab": {
          "base_uri": "https://localhost:8080/"
        },
        "outputId": "3af63bca-0aab-4176-b1c9-8d21b8f387fe"
      },
      "execution_count": 34,
      "outputs": [
        {
          "output_type": "stream",
          "name": "stdout",
          "text": [
            "Collecting factor_analyzer\n",
            "  Downloading factor_analyzer-0.5.1.tar.gz (42 kB)\n",
            "\u001b[2K     \u001b[90m━━━━━━━━━━━━━━━━━━━━━━━━━━━━━━━━━━━━━━━━\u001b[0m \u001b[32m42.8/42.8 kB\u001b[0m \u001b[31m1.1 MB/s\u001b[0m eta \u001b[36m0:00:00\u001b[0m\n",
            "\u001b[?25h  Installing build dependencies ... \u001b[?25l\u001b[?25hdone\n",
            "  Getting requirements to build wheel ... \u001b[?25l\u001b[?25hdone\n",
            "  Installing backend dependencies ... \u001b[?25l\u001b[?25hdone\n",
            "  Preparing metadata (pyproject.toml) ... \u001b[?25l\u001b[?25hdone\n",
            "Requirement already satisfied: pandas in /usr/local/lib/python3.10/dist-packages (from factor_analyzer) (1.5.3)\n",
            "Requirement already satisfied: scipy in /usr/local/lib/python3.10/dist-packages (from factor_analyzer) (1.11.4)\n",
            "Requirement already satisfied: numpy in /usr/local/lib/python3.10/dist-packages (from factor_analyzer) (1.25.2)\n",
            "Requirement already satisfied: scikit-learn in /usr/local/lib/python3.10/dist-packages (from factor_analyzer) (1.2.2)\n",
            "Requirement already satisfied: python-dateutil>=2.8.1 in /usr/local/lib/python3.10/dist-packages (from pandas->factor_analyzer) (2.8.2)\n",
            "Requirement already satisfied: pytz>=2020.1 in /usr/local/lib/python3.10/dist-packages (from pandas->factor_analyzer) (2023.4)\n",
            "Requirement already satisfied: joblib>=1.1.1 in /usr/local/lib/python3.10/dist-packages (from scikit-learn->factor_analyzer) (1.3.2)\n",
            "Requirement already satisfied: threadpoolctl>=2.0.0 in /usr/local/lib/python3.10/dist-packages (from scikit-learn->factor_analyzer) (3.3.0)\n",
            "Requirement already satisfied: six>=1.5 in /usr/local/lib/python3.10/dist-packages (from python-dateutil>=2.8.1->pandas->factor_analyzer) (1.16.0)\n",
            "Building wheels for collected packages: factor_analyzer\n",
            "  Building wheel for factor_analyzer (pyproject.toml) ... \u001b[?25l\u001b[?25hdone\n",
            "  Created wheel for factor_analyzer: filename=factor_analyzer-0.5.1-py2.py3-none-any.whl size=42564 sha256=982a81fe677e3381978c800cde73610ba0ee351f5eb42b01325727d0e7deeb1b\n",
            "  Stored in directory: /root/.cache/pip/wheels/24/59/82/6493618e30ed1cb7a013b9e1b0c9e17de80b04dfcef4ba8a4d\n",
            "Successfully built factor_analyzer\n",
            "Installing collected packages: factor_analyzer\n",
            "Successfully installed factor_analyzer-0.5.1\n"
          ]
        }
      ]
    },
    {
      "cell_type": "code",
      "source": [
        "numerical =credit[credit.columns[13:21]]\n",
        "fa = FactorAnalyzer()\n",
        "fa.fit(numerical, 10)\n",
        "\n",
        "#Get Eigen values and plot them\n",
        "ev, v = fa.get_eigenvalues()\n",
        "ev\n",
        "plt.plot(range(1,numerical.shape[1]+1),ev)\n",
        "\n",
        "#plt.title(\"Flight Delay\", weight=\"bold\", size=\"22\", color='#FB2576')\n",
        "plt.grid()\n",
        "plt.xlabel(\"Factors\", size=\"18\", color='#FB2576')\n",
        "plt.ylabel(\"Eigen Values\", size=\"18\", color='#FB2576')\n",
        "pass"
      ],
      "metadata": {
        "execution": {
          "iopub.status.busy": "2023-05-03T15:42:24.167934Z",
          "iopub.execute_input": "2023-05-03T15:42:24.168518Z",
          "iopub.status.idle": "2023-05-03T15:42:24.484788Z",
          "shell.execute_reply.started": "2023-05-03T15:42:24.168473Z",
          "shell.execute_reply": "2023-05-03T15:42:24.483179Z"
        },
        "trusted": true,
        "id": "qpTrISsWOVd8",
        "colab": {
          "base_uri": "https://localhost:8080/",
          "height": 459
        },
        "outputId": "9d03f4e3-ef73-4bf4-9bd6-80965eaa43fc"
      },
      "execution_count": 35,
      "outputs": [
        {
          "output_type": "display_data",
          "data": {
            "text/plain": [
              "<Figure size 640x480 with 1 Axes>"
            ],
            "image/png": "[encoded data removed]"
          },
          "metadata": {}
        }
      ]
    },
    {
      "cell_type": "markdown",
      "source": [
        "From the graph it is clear that the eigen values falls below 1 after 4th factor.                                     \n",
        "Therefore, we will consider 4 components for PCA."
      ],
      "metadata": {
        "id": "yiG-o8xdOVd8"
      }
    },
    {
      "cell_type": "markdown",
      "source": [
        "**PCA using built in SK-Learn library**"
      ],
      "metadata": {
        "id": "y9R3lSS-OVd8"
      }
    },
    {
      "cell_type": "code",
      "source": [
        "from sklearn.decomposition import PCA as sklearnPCA\n",
        "sklearn_pca = sklearnPCA(n_components=4)\n",
        "Y_sklearn = sklearn_pca.fit_transform(x_std)\n",
        "\n",
        "print(Y_sklearn)"
      ],
      "metadata": {
        "execution": {
          "iopub.status.busy": "2023-05-03T15:42:29.079436Z",
          "iopub.execute_input": "2023-05-03T15:42:29.080159Z",
          "iopub.status.idle": "2023-05-03T15:42:29.295632Z",
          "shell.execute_reply.started": "2023-05-03T15:42:29.080103Z",
          "shell.execute_reply": "2023-05-03T15:42:29.293985Z"
        },
        "trusted": true,
        "id": "0lDKsSW6OVd9",
        "colab": {
          "base_uri": "https://localhost:8080/"
        },
        "outputId": "5ca0f518-aba4-45cd-fbda-1d67e6e3af79"
      },
      "execution_count": 36,
      "outputs": [
        {
          "output_type": "stream",
          "name": "stdout",
          "text": [
            "[[-1.62486914  1.71206781 -1.37740958  1.73173356]\n",
            " [ 1.45119822 -1.24998935 -1.01962127  5.25707575]\n",
            " [-1.51384424 -1.43597971 -0.72070886  2.8912556 ]\n",
            " ...\n",
            " [ 0.90499606  1.70818385 -1.11182273  0.07519291]\n",
            " [-1.69658324 -1.56842008 -0.34242298  0.02197905]\n",
            " [ 1.19814946 -1.4969035  -0.3255837  -0.13838819]]\n"
          ]
        }
      ]
    },
    {
      "cell_type": "markdown",
      "source": [
        "# **<span style=\"color:#d62828;\">9.Declare Feature vector and Target vector</span>**"
      ],
      "metadata": {
        "id": "P_DDbzFAOVd9"
      }
    },
    {
      "cell_type": "markdown",
      "source": [
        "Convert tuple back to dataframe.\n",
        "\n",
        "We will use the tuple obtained from performing PCA as our input for the classifier."
      ],
      "metadata": {
        "id": "I4xXv5-0OVd9"
      }
    },
    {
      "cell_type": "code",
      "source": [
        "X = pd.DataFrame(list(Y_sklearn))"
      ],
      "metadata": {
        "execution": {
          "iopub.status.busy": "2023-05-03T15:42:43.323953Z",
          "iopub.execute_input": "2023-05-03T15:42:43.324497Z",
          "iopub.status.idle": "2023-05-03T15:42:43.360676Z",
          "shell.execute_reply.started": "2023-05-03T15:42:43.324455Z",
          "shell.execute_reply": "2023-05-03T15:42:43.359266Z"
        },
        "trusted": true,
        "id": "bTrLj008OVd-"
      },
      "execution_count": 37,
      "outputs": []
    },
    {
      "cell_type": "markdown",
      "source": [
        "Here our target variable is the Attrition Flag. It has two unique labels:\n",
        "1. Existing Customer - 0\n",
        "2. Attrited Customer - 1"
      ],
      "metadata": {
        "id": "rDngy3R5OVd-"
      }
    },
    {
      "cell_type": "code",
      "source": [
        "y = credit[\"Attrition_Flag\"]"
      ],
      "metadata": {
        "execution": {
          "iopub.status.busy": "2023-05-03T15:42:45.992312Z",
          "iopub.execute_input": "2023-05-03T15:42:45.992839Z",
          "iopub.status.idle": "2023-05-03T15:42:46.000669Z",
          "shell.execute_reply.started": "2023-05-03T15:42:45.992797Z",
          "shell.execute_reply": "2023-05-03T15:42:45.998613Z"
        },
        "trusted": true,
        "id": "h4TDqMBYOVd-"
      },
      "execution_count": 38,
      "outputs": []
    },
    {
      "cell_type": "markdown",
      "source": [
        "# **<span style=\"color:#d62828;\">10. Train-Test Split</span>**\n",
        "We will use 70% of data for training set for our classifier and rest will be used for prediction."
      ],
      "metadata": {
        "id": "l6CNW4CKOVd_"
      }
    },
    {
      "cell_type": "code",
      "source": [
        "# split X and y into training and testing sets\n",
        "from sklearn.model_selection import train_test_split\n",
        "\n",
        "X_train, X_test, y_train, y_test = train_test_split(X, y, test_size = 0.3, random_state = 0)"
      ],
      "metadata": {
        "execution": {
          "iopub.status.busy": "2023-05-03T15:42:49.623632Z",
          "iopub.execute_input": "2023-05-03T15:42:49.624119Z",
          "iopub.status.idle": "2023-05-03T15:42:49.635851Z",
          "shell.execute_reply.started": "2023-05-03T15:42:49.624081Z",
          "shell.execute_reply": "2023-05-03T15:42:49.634403Z"
        },
        "trusted": true,
        "id": "fb9kQsJXOVd_"
      },
      "execution_count": 39,
      "outputs": []
    },
    {
      "cell_type": "code",
      "source": [
        "#Shape of train and test\n",
        "X_train.shape, X_test.shape, y_train.shape, y_test.shape"
      ],
      "metadata": {
        "execution": {
          "iopub.status.busy": "2023-05-03T15:43:02.537063Z",
          "iopub.execute_input": "2023-05-03T15:43:02.537595Z",
          "iopub.status.idle": "2023-05-03T15:43:02.546215Z",
          "shell.execute_reply.started": "2023-05-03T15:43:02.537554Z",
          "shell.execute_reply": "2023-05-03T15:43:02.544942Z"
        },
        "trusted": true,
        "id": "b0Wdv4rUOVeA",
        "colab": {
          "base_uri": "https://localhost:8080/"
        },
        "outputId": "f1a9076d-6989-4f02-9a05-34c7403fc477"
      },
      "execution_count": 41,
      "outputs": [
        {
          "output_type": "execute_result",
          "data": {
            "text/plain": [
              "((7088, 4), (3039, 4), (7088,), (3039,))"
            ]
          },
          "metadata": {},
          "execution_count": 41
        }
      ]
    },
    {
      "cell_type": "markdown",
      "source": [
        "# **<span style=\"color:#d62828;\">11. Naives Bayer Classifier</span>**"
      ],
      "metadata": {
        "id": "dY0jiyFlOVeA"
      }
    },
    {
      "cell_type": "markdown",
      "source": [
        "A classifier is a machine learning model that is used to discriminate different objects based on certain features.\n",
        "Here we are using Gaussian Naives Bayer Classifier"
      ],
      "metadata": {
        "id": "gCB59I9FOVeB"
      }
    },
    {
      "cell_type": "code",
      "source": [
        "from sklearn.naive_bayes import GaussianNB\n",
        "\n",
        "gnb = GaussianNB()\n",
        "\n",
        "gnb.fit(X_train, y_train)"
      ],
      "metadata": {
        "execution": {
          "iopub.status.busy": "2023-05-03T15:43:05.391233Z",
          "iopub.execute_input": "2023-05-03T15:43:05.39168Z",
          "iopub.status.idle": "2023-05-03T15:43:05.428964Z",
          "shell.execute_reply.started": "2023-05-03T15:43:05.391646Z",
          "shell.execute_reply": "2023-05-03T15:43:05.42785Z"
        },
        "trusted": true,
        "id": "VzOHbhCuOVeB",
        "colab": {
          "base_uri": "https://localhost:8080/",
          "height": 75
        },
        "outputId": "a119495c-7406-463c-a7d7-2eafb502dbc9"
      },
      "execution_count": 42,
      "outputs": [
        {
          "output_type": "execute_result",
          "data": {
            "text/plain": [
              "GaussianNB()"
            ],
            "text/html": [
              "<style>#sk-container-id-2 {color: black;background-color: white;}#sk-container-id-2 pre{padding: 0;}#sk-container-id-2 div.sk-toggleable {background-color: white;}#sk-container-id-2 label.sk-toggleable__label {cursor: pointer;display: block;width: 100%;margin-bottom: 0;padding: 0.3em;box-sizing: border-box;text-align: center;}#sk-container-id-2 label.sk-toggleable__label-arrow:before {content: \"▸\";float: left;margin-right: 0.25em;color: #696969;}#sk-container-id-2 label.sk-toggleable__label-arrow:hover:before {color: black;}#sk-container-id-2 div.sk-estimator:hover label.sk-toggleable__label-arrow:before {color: black;}#sk-container-id-2 div.sk-toggleable__content {max-height: 0;max-width: 0;overflow: hidden;text-align: left;background-color: #f0f8ff;}#sk-container-id-2 div.sk-toggleable__content pre {margin: 0.2em;color: black;border-radius: 0.25em;background-color: #f0f8ff;}#sk-container-id-2 input.sk-toggleable__control:checked~div.sk-toggleable__content {max-height: 200px;max-width: 100%;overflow: auto;}#sk-container-id-2 input.sk-toggleable__control:checked~label.sk-toggleable__label-arrow:before {content: \"▾\";}#sk-container-id-2 div.sk-estimator input.sk-toggleable__control:checked~label.sk-toggleable__label {background-color: #d4ebff;}#sk-container-id-2 div.sk-label input.sk-toggleable__control:checked~label.sk-toggleable__label {background-color: #d4ebff;}#sk-container-id-2 input.sk-hidden--visually {border: 0;clip: rect(1px 1px 1px 1px);clip: rect(1px, 1px, 1px, 1px);height: 1px;margin: -1px;overflow: hidden;padding: 0;position: absolute;width: 1px;}#sk-container-id-2 div.sk-estimator {font-family: monospace;background-color: #f0f8ff;border: 1px dotted black;border-radius: 0.25em;box-sizing: border-box;margin-bottom: 0.5em;}#sk-container-id-2 div.sk-estimator:hover {background-color: #d4ebff;}#sk-container-id-2 div.sk-parallel-item::after {content: \"\";width: 100%;border-bottom: 1px solid gray;flex-grow: 1;}#sk-container-id-2 div.sk-label:hover label.sk-toggleable__label {background-color: #d4ebff;}#sk-container-id-2 div.sk-serial::before {content: \"\";position: absolute;border-left: 1px solid gray;box-sizing: border-box;top: 0;bottom: 0;left: 50%;z-index: 0;}#sk-container-id-2 div.sk-serial {display: flex;flex-direction: column;align-items: center;background-color: white;padding-right: 0.2em;padding-left: 0.2em;position: relative;}#sk-container-id-2 div.sk-item {position: relative;z-index: 1;}#sk-container-id-2 div.sk-parallel {display: flex;align-items: stretch;justify-content: center;background-color: white;position: relative;}#sk-container-id-2 div.sk-item::before, #sk-container-id-2 div.sk-parallel-item::before {content: \"\";position: absolute;border-left: 1px solid gray;box-sizing: border-box;top: 0;bottom: 0;left: 50%;z-index: -1;}#sk-container-id-2 div.sk-parallel-item {display: flex;flex-direction: column;z-index: 1;position: relative;background-color: white;}#sk-container-id-2 div.sk-parallel-item:first-child::after {align-self: flex-end;width: 50%;}#sk-container-id-2 div.sk-parallel-item:last-child::after {align-self: flex-start;width: 50%;}#sk-container-id-2 div.sk-parallel-item:only-child::after {width: 0;}#sk-container-id-2 div.sk-dashed-wrapped {border: 1px dashed gray;margin: 0 0.4em 0.5em 0.4em;box-sizing: border-box;padding-bottom: 0.4em;background-color: white;}#sk-container-id-2 div.sk-label label {font-family: monospace;font-weight: bold;display: inline-block;line-height: 1.2em;}#sk-container-id-2 div.sk-label-container {text-align: center;}#sk-container-id-2 div.sk-container {/* jupyter's `normalize.less` sets `[hidden] { display: none; }` but bootstrap.min.css set `[hidden] { display: none !important; }` so we also need the `!important` here to be able to override the default hidden behavior on the sphinx rendered scikit-learn.org. See: https://github.com/scikit-learn/scikit-learn/issues/21755 */display: inline-block !important;position: relative;}#sk-container-id-2 div.sk-text-repr-fallback {display: none;}</style><div id=\"sk-container-id-2\" class=\"sk-top-container\"><div class=\"sk-text-repr-fallback\"><pre>GaussianNB()</pre><b>In a Jupyter environment, please rerun this cell to show the HTML representation or trust the notebook. <br />On GitHub, the HTML representation is unable to render, please try loading this page with nbviewer.org.</b></div><div class=\"sk-container\" hidden><div class=\"sk-item\"><div class=\"sk-estimator sk-toggleable\"><input class=\"sk-toggleable__control sk-hidden--visually\" id=\"sk-estimator-id-2\" type=\"checkbox\" checked><label for=\"sk-estimator-id-2\" class=\"sk-toggleable__label sk-toggleable__label-arrow\">GaussianNB</label><div class=\"sk-toggleable__content\"><pre>GaussianNB()</pre></div></div></div></div></div>"
            ]
          },
          "metadata": {},
          "execution_count": 42
        }
      ]
    },
    {
      "cell_type": "code",
      "source": [
        "y_pred = gnb.predict(X_test)\n",
        "\n",
        "y_pred"
      ],
      "metadata": {
        "execution": {
          "iopub.status.busy": "2023-05-03T15:43:07.741438Z",
          "iopub.execute_input": "2023-05-03T15:43:07.74252Z",
          "iopub.status.idle": "2023-05-03T15:43:07.75313Z",
          "shell.execute_reply.started": "2023-05-03T15:43:07.742471Z",
          "shell.execute_reply": "2023-05-03T15:43:07.751686Z"
        },
        "trusted": true,
        "id": "XbYkjhvsOVeB",
        "colab": {
          "base_uri": "https://localhost:8080/"
        },
        "outputId": "1de3d5d7-67f6-4667-8cf3-7bf3862d87a0"
      },
      "execution_count": 43,
      "outputs": [
        {
          "output_type": "execute_result",
          "data": {
            "text/plain": [
              "array(['Existing Customer', 'Existing Customer', 'Existing Customer', ...,\n",
              "       'Existing Customer', 'Existing Customer', 'Existing Customer'],\n",
              "      dtype='<U17')"
            ]
          },
          "metadata": {},
          "execution_count": 43
        }
      ]
    },
    {
      "cell_type": "markdown",
      "source": [
        "# **<span style=\"color:#d62828;\">12. Accuracy Testing</span>**"
      ],
      "metadata": {
        "id": "RgcXDZiiOVeB"
      }
    },
    {
      "cell_type": "code",
      "source": [
        "from sklearn.metrics import accuracy_score\n",
        "\n",
        "print('Model accuracy score: {0:0.4f}'. format(accuracy_score(y_test, y_pred)))"
      ],
      "metadata": {
        "execution": {
          "iopub.status.busy": "2023-05-03T15:43:18.192834Z",
          "iopub.execute_input": "2023-05-03T15:43:18.193356Z",
          "iopub.status.idle": "2023-05-03T15:43:18.208262Z",
          "shell.execute_reply.started": "2023-05-03T15:43:18.19332Z",
          "shell.execute_reply": "2023-05-03T15:43:18.206869Z"
        },
        "trusted": true,
        "id": "tgU8rIZYOVeC",
        "colab": {
          "base_uri": "https://localhost:8080/"
        },
        "outputId": "9a3e6082-c298-4a90-a5ce-6265862be002"
      },
      "execution_count": 44,
      "outputs": [
        {
          "output_type": "stream",
          "name": "stdout",
          "text": [
            "Model accuracy score: 0.8302\n"
          ]
        }
      ]
    },
    {
      "cell_type": "code",
      "source": [
        "y_test.value_counts()"
      ],
      "metadata": {
        "execution": {
          "iopub.status.busy": "2023-05-03T15:43:20.716806Z",
          "iopub.execute_input": "2023-05-03T15:43:20.717262Z",
          "iopub.status.idle": "2023-05-03T15:43:20.730163Z",
          "shell.execute_reply.started": "2023-05-03T15:43:20.717225Z",
          "shell.execute_reply": "2023-05-03T15:43:20.729157Z"
        },
        "trusted": true,
        "id": "6uTclp0GOVeD",
        "colab": {
          "base_uri": "https://localhost:8080/"
        },
        "outputId": "363374fb-ea20-4d40-9435-1b2e86b01d97"
      },
      "execution_count": 45,
      "outputs": [
        {
          "output_type": "execute_result",
          "data": {
            "text/plain": [
              "Existing Customer    2583\n",
              "Attrited Customer     456\n",
              "Name: Attrition_Flag, dtype: int64"
            ]
          },
          "metadata": {},
          "execution_count": 45
        }
      ]
    },
    {
      "cell_type": "code",
      "source": [
        "np.unique(y_pred, return_counts=True)"
      ],
      "metadata": {
        "execution": {
          "iopub.status.busy": "2023-05-03T16:04:40.521059Z",
          "iopub.execute_input": "2023-05-03T16:04:40.521601Z",
          "iopub.status.idle": "2023-05-03T16:04:40.530067Z",
          "shell.execute_reply.started": "2023-05-03T16:04:40.521565Z",
          "shell.execute_reply": "2023-05-03T16:04:40.529083Z"
        },
        "trusted": true,
        "id": "x6d6ZGuWOVeD",
        "colab": {
          "base_uri": "https://localhost:8080/"
        },
        "outputId": "deb4c3db-3daf-4486-f832-050028cade4c"
      },
      "execution_count": 46,
      "outputs": [
        {
          "output_type": "execute_result",
          "data": {
            "text/plain": [
              "(array(['Attrited Customer', 'Existing Customer'], dtype='<U17'),\n",
              " array([ 124, 2915]))"
            ]
          },
          "metadata": {},
          "execution_count": 46
        }
      ]
    },
    {
      "cell_type": "markdown",
      "source": [
        "# **<span style=\"color:#d62828;\">13. Confusion Matrix</span>**"
      ],
      "metadata": {
        "id": "kDqg8A57OVeE"
      }
    },
    {
      "cell_type": "code",
      "source": [
        "from sklearn.metrics import confusion_matrix\n",
        "\n",
        "con_matrix = confusion_matrix(y_test, y_pred)\n",
        "cm_matrix = pd.DataFrame(data=con_matrix, columns=['Actual Positive:1', 'Actual Negative:0'],\n",
        "                                 index=['Predict Positive:1', 'Predict Negative:0'])\n",
        "\n",
        "sns.heatmap(cm_matrix, annot=True, fmt='d', cmap='YlGnBu')"
      ],
      "metadata": {
        "execution": {
          "iopub.status.busy": "2023-05-03T15:43:23.188718Z",
          "iopub.execute_input": "2023-05-03T15:43:23.189131Z",
          "iopub.status.idle": "2023-05-03T15:43:23.438449Z",
          "shell.execute_reply.started": "2023-05-03T15:43:23.189099Z",
          "shell.execute_reply": "2023-05-03T15:43:23.436978Z"
        },
        "trusted": true,
        "id": "WFUf_XhLOVeE",
        "colab": {
          "base_uri": "https://localhost:8080/",
          "height": 447
        },
        "outputId": "c61ab2a2-9166-4995-c964-eaf3ed95413a"
      },
      "execution_count": 47,
      "outputs": [
        {
          "output_type": "execute_result",
          "data": {
            "text/plain": [
              "<Axes: >"
            ]
          },
          "metadata": {},
          "execution_count": 47
        },
        {
          "output_type": "display_data",
          "data": {
            "text/plain": [
              "<Figure size 640x480 with 2 Axes>"
            ],
            "image/png": "[encoded data removed]"
          },
          "metadata": {}
        }
      ]
    },
    {
      "cell_type": "code",
      "source": [
        "from sklearn.metrics import classification_report\n",
        "\n",
        "print(classification_report(y_test, y_pred))"
      ],
      "metadata": {
        "execution": {
          "iopub.status.busy": "2023-05-03T15:43:27.081163Z",
          "iopub.execute_input": "2023-05-03T15:43:27.0817Z",
          "iopub.status.idle": "2023-05-03T15:43:27.187055Z",
          "shell.execute_reply.started": "2023-05-03T15:43:27.081656Z",
          "shell.execute_reply": "2023-05-03T15:43:27.185353Z"
        },
        "trusted": true,
        "id": "y1mlxSbROVeE",
        "colab": {
          "base_uri": "https://localhost:8080/"
        },
        "outputId": "29277354-6e1f-40d4-d5d3-67244a07dafd"
      },
      "execution_count": 48,
      "outputs": [
        {
          "output_type": "stream",
          "name": "stdout",
          "text": [
            "                   precision    recall  f1-score   support\n",
            "\n",
            "Attrited Customer       0.26      0.07      0.11       456\n",
            "Existing Customer       0.85      0.96      0.91      2583\n",
            "\n",
            "         accuracy                           0.83      3039\n",
            "        macro avg       0.56      0.52      0.51      3039\n",
            "     weighted avg       0.77      0.83      0.79      3039\n",
            "\n"
          ]
        }
      ]
    },
    {
      "cell_type": "markdown",
      "source": [
        "**<span style=\"color:#f77f00;\"><font size=\"+20\">In Conclusion!</font></span>**\n",
        "\n",
        "So, we have tried to analyze the credit customer attiriton dataset by vizualising the various parameters related to the customer. Next we have divided the data into categorical and numerical and performed One Hot Encoding and Principal Component Analysis respectively. Lastly, we have managed to classify the customer attrition using Naives Bayer Classifier and make predictions on the test dataset.\n",
        "\n",
        "<span style=\"color:#d62828;\">Some Observations:</span>\n",
        "1. Accuracy of Naives Bayer Classifier is 83%.\n",
        "2. From the Confusion Matrix, we can observe that the model is more efficient at predicting existing customer.\n",
        "\n",
        "<span style=\"color:#d62828;\">Future Works:</span>\n",
        "1. Include categorical data, in classifier model.\n",
        "2. Try different classification algorithms and compare accuracy.\n",
        "\n",
        "\n",
        "<span style=\"color:#f77f00;\"><font size=\"+2\">Please **<span style=\"color:#d62828;\">UPVOTE</span>** if you like the efforts put in the notebook and also let me know if there are any errors in the same!</font></span>"
      ],
      "metadata": {
        "id": "xV9yNXKLOVeF"
      }
    },
    {
      "cell_type": "code",
      "source": [
        "Source : https://www.kaggle.com/code/andybrandycandy/predicting-credit-card-attrition"
      ],
      "metadata": {
        "id": "w8mzvCtKiisP"
      },
      "execution_count": null,
      "outputs": []
    }
  ]
}